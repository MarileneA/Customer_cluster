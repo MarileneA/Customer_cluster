{
 "cells": [
  {
   "cell_type": "markdown",
   "id": "0c206f64",
   "metadata": {},
   "source": [
    "## 0.0 Planejamento da solução "
   ]
  },
  {
   "cell_type": "markdown",
   "id": "afd34a81",
   "metadata": {},
   "source": [
    "**Input - Entrada** "
   ]
  },
  {
   "cell_type": "markdown",
   "id": "799dd8cb",
   "metadata": {},
   "source": [
    "1. Problema de Negócio\n",
    "    -- Selecionar os clientes mais valiosos para integrar um programa de fidelização\n",
    "    \n",
    "\n",
    "2. Conjunto de dados\n",
    "    -- Vendas de um e-ccomerce online durante um período de 1 ano.   \n",
    "    \n"
   ]
  },
  {
   "cell_type": "markdown",
   "id": "2565f5a8",
   "metadata": {},
   "source": [
    "**Output - Saída**"
   ]
  },
  {
   "cell_type": "markdown",
   "id": "840a8e86",
   "metadata": {},
   "source": [
    "A indicação de pessoas para fazer parte do programa de fidelidade \"INSIDERS\".\n",
    "\n",
    "Relatório com as respostas para as seguintes perguntas:\n",
    "    Quem são as pessoas elegíveis para participar do programa de Insiders ?\n",
    "    \n",
    "    1. Quantos clientes farão parte do grupo?\n",
    "    \n",
    "    2. Quais as principais características desses clientes ?\n",
    "    \n",
    "    3. Qual a porcentagem de contribuição do faturamento, vinda do Insiders ?\n",
    "    \n",
    "    4. Qual a expectativa de faturamento desse grupo para os próximos meses ?\n",
    "    \n",
    "    5. Quais as condições para uma pessoa ser elegível ao Insiders ?\n",
    "    \n",
    "    6. Quais as condições para uma pessoa ser removida do Insiders ?\n",
    "    \n",
    "    7. Qual a garantia que o programa Insiders é melhor que o restante da base ?\n",
    "    \n",
    "    8. Quais ações o time de marketing pode realizar para aumentar o faturamento?"
   ]
  },
  {
   "cell_type": "markdown",
   "id": "2aaaa919",
   "metadata": {},
   "source": [
    " **Tasks - Processo**"
   ]
  },
  {
   "cell_type": "markdown",
   "id": "7d1bca37",
   "metadata": {},
   "source": [
    "1. Quem são as pessoas elegíveis para participar do programa de Insiders ?\n",
    "    --O que é ser elegível. Para a empresa o que são clientes com maior valor?\n",
    "\n",
    "        Faturamento:\n",
    "            Alto Ticket MédioAlto LTVBaixa Recência ou Alta Frequência ( tempo entre as compras )\n",
    "\n",
    "            Alto Basket Size ( quantidade média de produtos comprados )\n",
    "\n",
    "            Baixa probabilidade de Churn\n",
    "            \n",
    "            Previsão alta de LTV\n",
    "            \n",
    "            Alta propensão de compra\n",
    "\n",
    "        Custo:\n",
    "\n",
    "            Baixo número de devoluções\n",
    "\n",
    "        Experiência de compra:  \n",
    "\n",
    "            Média alta de avaliações\n",
    "            \n",
    "2. Quantos clientes farão parte de cada grupo\n",
    "     --Número total de clientes\n",
    "         %do grupo de insiders\n",
    "     \n",
    "3. Quais as principais características desses clientes?\n",
    "      -- Escrever caracteristicas desses clientes\n",
    "              idade\n",
    "              Localização\n",
    "       \n",
    "      -- Escrever caracteristicas do consumo\n",
    "              Atributos de clusterização\n",
    "              \n",
    "4. Qual a porcentagem de contribuição do faturamento, vinda do Insiders ?\n",
    "        --Faturamento total do ano\n",
    "        --Faturamento do grupo de insiders        \n",
    "        \n",
    "\n",
    "5. Qual a expectativa de faturamento desse grupo para os próximos meses ?\n",
    "        --LTV do grupo de insiders\n",
    "        --Analise de cohort\n",
    "   \n",
    "6. Quais as condições para uma pessoa ser elegível ao Insiders ?\n",
    "        -- Definir a periodicidade\n",
    "        -- Pessoas com caracteristicas parecidas com os outros insders do grupo\n",
    "\n",
    "\n",
    "7. Quais as condições para uma pessoa ser removida do Insiders ?\n",
    "         -- Definir a periodicidade\n",
    "         -- Não estar dentro das características acima\n",
    "\n",
    "8. ual a garantia que o programa Insiders é melhor que o restante da base ?\n",
    "        -- teste A/B\n",
    "        --teste A/B baysiano\n",
    "        -- Teste de hipoteses\n",
    "        \n",
    "        \n",
    "9. Quais ações o time de marketing pode realizar para aumentar o faturamento? \n",
    "        -- Desconto\n",
    "        -- frete\n",
    "        -- Visita a empresa\n",
    "        -- brinde\n",
    "    \n",
    "        \n",
    "\n"
   ]
  },
  {
   "cell_type": "markdown",
   "id": "bda6ba29",
   "metadata": {},
   "source": [
    "## 0.0 Imports"
   ]
  },
  {
   "cell_type": "code",
   "execution_count": 40,
   "id": "b3ebc091",
   "metadata": {
    "ExecuteTime": {
     "end_time": "2022-09-01T19:15:16.120261Z",
     "start_time": "2022-09-01T19:15:16.114273Z"
    }
   },
   "outputs": [],
   "source": [
    "import re\n",
    "import pandas    as pd\n",
    "import numpy     as np\n",
    "import seaborn   as sns\n",
    "\n",
    "import umap.umap_   as umap\n",
    "\n",
    "from matplotlib          import pyplot        as plt\n",
    "from sklearn             import cluster       as c\n",
    "from plotly              import express       as px\n",
    "from sklearn             import ensemble      as en\n",
    "from sklearn             import metrics       as m\n",
    "from sklearn             import preprocessing as pp\n",
    "from sklearn             import decomposition as dd\n",
    "from sklearn             import mixture       as mx\n",
    "from sklearn.manifold    import TSNE"
   ]
  },
  {
   "cell_type": "markdown",
   "id": "611815d5",
   "metadata": {},
   "source": [
    "## 0.2 Load Dataset"
   ]
  },
  {
   "cell_type": "code",
   "execution_count": 41,
   "id": "84a01706",
   "metadata": {
    "ExecuteTime": {
     "end_time": "2022-09-01T19:15:17.135462Z",
     "start_time": "2022-09-01T19:15:16.123250Z"
    }
   },
   "outputs": [],
   "source": [
    "df_raw = pd.read_csv('Data/ecommerce.csv',encoding='cp1252')\n",
    "df_raw.drop('Unnamed: 8', axis=1, inplace=True)"
   ]
  },
  {
   "cell_type": "markdown",
   "id": "1328a056",
   "metadata": {},
   "source": [
    "# 1.0 Data Descriptions"
   ]
  },
  {
   "cell_type": "code",
   "execution_count": 42,
   "id": "c034e2c3",
   "metadata": {
    "ExecuteTime": {
     "end_time": "2022-09-01T19:15:17.183378Z",
     "start_time": "2022-09-01T19:15:17.139451Z"
    }
   },
   "outputs": [],
   "source": [
    "df1 = df_raw.copy()"
   ]
  },
  {
   "cell_type": "code",
   "execution_count": 43,
   "id": "7f1e2024",
   "metadata": {
    "ExecuteTime": {
     "end_time": "2022-09-01T19:15:17.338809Z",
     "start_time": "2022-09-01T19:15:17.186369Z"
    }
   },
   "outputs": [
    {
     "data": {
      "text/html": [
       "<div>\n",
       "<style scoped>\n",
       "    .dataframe tbody tr th:only-of-type {\n",
       "        vertical-align: middle;\n",
       "    }\n",
       "\n",
       "    .dataframe tbody tr th {\n",
       "        vertical-align: top;\n",
       "    }\n",
       "\n",
       "    .dataframe thead th {\n",
       "        text-align: right;\n",
       "    }\n",
       "</style>\n",
       "<table border=\"1\" class=\"dataframe\">\n",
       "  <thead>\n",
       "    <tr style=\"text-align: right;\">\n",
       "      <th></th>\n",
       "      <th>InvoiceNo</th>\n",
       "      <th>StockCode</th>\n",
       "      <th>Description</th>\n",
       "      <th>Quantity</th>\n",
       "      <th>InvoiceDate</th>\n",
       "      <th>UnitPrice</th>\n",
       "      <th>CustomerID</th>\n",
       "      <th>Country</th>\n",
       "    </tr>\n",
       "  </thead>\n",
       "  <tbody>\n",
       "    <tr>\n",
       "      <th>0</th>\n",
       "      <td>536365</td>\n",
       "      <td>85123A</td>\n",
       "      <td>WHITE HANGING HEART T-LIGHT HOLDER</td>\n",
       "      <td>6</td>\n",
       "      <td>29-Nov-16</td>\n",
       "      <td>2.55</td>\n",
       "      <td>17850.0</td>\n",
       "      <td>United Kingdom</td>\n",
       "    </tr>\n",
       "    <tr>\n",
       "      <th>1</th>\n",
       "      <td>536365</td>\n",
       "      <td>71053</td>\n",
       "      <td>WHITE METAL LANTERN</td>\n",
       "      <td>6</td>\n",
       "      <td>29-Nov-16</td>\n",
       "      <td>3.39</td>\n",
       "      <td>17850.0</td>\n",
       "      <td>United Kingdom</td>\n",
       "    </tr>\n",
       "    <tr>\n",
       "      <th>2</th>\n",
       "      <td>536365</td>\n",
       "      <td>84406B</td>\n",
       "      <td>CREAM CUPID HEARTS COAT HANGER</td>\n",
       "      <td>8</td>\n",
       "      <td>29-Nov-16</td>\n",
       "      <td>2.75</td>\n",
       "      <td>17850.0</td>\n",
       "      <td>United Kingdom</td>\n",
       "    </tr>\n",
       "    <tr>\n",
       "      <th>3</th>\n",
       "      <td>536365</td>\n",
       "      <td>84029G</td>\n",
       "      <td>KNITTED UNION FLAG HOT WATER BOTTLE</td>\n",
       "      <td>6</td>\n",
       "      <td>29-Nov-16</td>\n",
       "      <td>3.39</td>\n",
       "      <td>17850.0</td>\n",
       "      <td>United Kingdom</td>\n",
       "    </tr>\n",
       "    <tr>\n",
       "      <th>4</th>\n",
       "      <td>536365</td>\n",
       "      <td>84029E</td>\n",
       "      <td>RED WOOLLY HOTTIE WHITE HEART.</td>\n",
       "      <td>6</td>\n",
       "      <td>29-Nov-16</td>\n",
       "      <td>3.39</td>\n",
       "      <td>17850.0</td>\n",
       "      <td>United Kingdom</td>\n",
       "    </tr>\n",
       "  </tbody>\n",
       "</table>\n",
       "</div>"
      ],
      "text/plain": [
       "  InvoiceNo StockCode                          Description  Quantity  \\\n",
       "0    536365    85123A   WHITE HANGING HEART T-LIGHT HOLDER         6   \n",
       "1    536365     71053                  WHITE METAL LANTERN         6   \n",
       "2    536365    84406B       CREAM CUPID HEARTS COAT HANGER         8   \n",
       "3    536365    84029G  KNITTED UNION FLAG HOT WATER BOTTLE         6   \n",
       "4    536365    84029E       RED WOOLLY HOTTIE WHITE HEART.         6   \n",
       "\n",
       "  InvoiceDate  UnitPrice  CustomerID         Country  \n",
       "0   29-Nov-16       2.55     17850.0  United Kingdom  \n",
       "1   29-Nov-16       3.39     17850.0  United Kingdom  \n",
       "2   29-Nov-16       2.75     17850.0  United Kingdom  \n",
       "3   29-Nov-16       3.39     17850.0  United Kingdom  \n",
       "4   29-Nov-16       3.39     17850.0  United Kingdom  "
      ]
     },
     "execution_count": 43,
     "metadata": {},
     "output_type": "execute_result"
    }
   ],
   "source": [
    "df1.head()"
   ]
  },
  {
   "cell_type": "markdown",
   "id": "56a971a1",
   "metadata": {},
   "source": [
    "## 1.1 Rename Columns"
   ]
  },
  {
   "cell_type": "code",
   "execution_count": 44,
   "id": "248981a8",
   "metadata": {
    "ExecuteTime": {
     "end_time": "2022-09-01T19:15:17.432592Z",
     "start_time": "2022-09-01T19:15:17.341795Z"
    }
   },
   "outputs": [
    {
     "data": {
      "text/plain": [
       "Index(['InvoiceNo', 'StockCode', 'Description', 'Quantity', 'InvoiceDate',\n",
       "       'UnitPrice', 'CustomerID', 'Country'],\n",
       "      dtype='object')"
      ]
     },
     "execution_count": 44,
     "metadata": {},
     "output_type": "execute_result"
    }
   ],
   "source": [
    "df1.columns"
   ]
  },
  {
   "cell_type": "code",
   "execution_count": 45,
   "id": "97999d61",
   "metadata": {
    "ExecuteTime": {
     "end_time": "2022-09-01T19:15:17.557579Z",
     "start_time": "2022-09-01T19:15:17.434622Z"
    }
   },
   "outputs": [],
   "source": [
    "cols_new =['Invoice_No', 'Stock_Code', 'Description', 'Quantity', 'Invoice_Date',\n",
    "       'Unit_Price', 'Customer_ID', 'Country']\n",
    "\n",
    "\n",
    "cols_new = list( (map(lambda x: x.lower(), cols_new)) )\n",
    "\n",
    "\n",
    "df1.columns = cols_new"
   ]
  },
  {
   "cell_type": "markdown",
   "id": "aeeec3a1",
   "metadata": {},
   "source": [
    "## 1.2 Data Dimensions"
   ]
  },
  {
   "cell_type": "code",
   "execution_count": 46,
   "id": "63e33ff3",
   "metadata": {
    "ExecuteTime": {
     "end_time": "2022-09-01T19:15:17.681834Z",
     "start_time": "2022-09-01T19:15:17.559578Z"
    }
   },
   "outputs": [
    {
     "name": "stdout",
     "output_type": "stream",
     "text": [
      "Numbers of rows: 541909\n",
      "\n",
      "Numbers of columns: 8\n"
     ]
    }
   ],
   "source": [
    "print(f'Numbers of rows: { df1.shape[0] }\\n')\n",
    "print(f'Numbers of columns: { df1.shape[1] }')"
   ]
  },
  {
   "cell_type": "markdown",
   "id": "84af5131",
   "metadata": {},
   "source": [
    "## 1.3 Data Types"
   ]
  },
  {
   "cell_type": "code",
   "execution_count": 47,
   "id": "63f24b52",
   "metadata": {
    "ExecuteTime": {
     "end_time": "2022-09-01T19:15:17.820268Z",
     "start_time": "2022-09-01T19:15:17.683658Z"
    }
   },
   "outputs": [
    {
     "data": {
      "text/plain": [
       "invoice_no       object\n",
       "stock_code       object\n",
       "description      object\n",
       "quantity          int64\n",
       "invoice_date     object\n",
       "unit_price      float64\n",
       "customer_id     float64\n",
       "country          object\n",
       "dtype: object"
      ]
     },
     "execution_count": 47,
     "metadata": {},
     "output_type": "execute_result"
    }
   ],
   "source": [
    "df1.dtypes"
   ]
  },
  {
   "cell_type": "markdown",
   "id": "f94218c8",
   "metadata": {},
   "source": [
    "## 1.4 Check NA"
   ]
  },
  {
   "cell_type": "code",
   "execution_count": 48,
   "id": "160a0177",
   "metadata": {
    "ExecuteTime": {
     "end_time": "2022-09-01T19:15:18.292920Z",
     "start_time": "2022-09-01T19:15:17.823266Z"
    }
   },
   "outputs": [
    {
     "data": {
      "text/plain": [
       "invoice_no           0\n",
       "stock_code           0\n",
       "description       1454\n",
       "quantity             0\n",
       "invoice_date         0\n",
       "unit_price           0\n",
       "customer_id     135080\n",
       "country              0\n",
       "dtype: int64"
      ]
     },
     "execution_count": 48,
     "metadata": {},
     "output_type": "execute_result"
    }
   ],
   "source": [
    "df1.isna().sum()"
   ]
  },
  {
   "cell_type": "markdown",
   "id": "add25715",
   "metadata": {},
   "source": [
    "## 1.5 Replace NA"
   ]
  },
  {
   "cell_type": "code",
   "execution_count": 49,
   "id": "3205e8ce",
   "metadata": {
    "ExecuteTime": {
     "end_time": "2022-09-01T19:15:18.464423Z",
     "start_time": "2022-09-01T19:15:18.295912Z"
    }
   },
   "outputs": [],
   "source": [
    "# TThe strategy is replace NAs to do a general study\n",
    "df_missing =df1.loc[df1['customer_id'].isna(), :]\n",
    "df_not_missing = df1.loc[~df1['customer_id'].isna(), :]\n"
   ]
  },
  {
   "cell_type": "code",
   "execution_count": 50,
   "id": "419696e6",
   "metadata": {
    "ExecuteTime": {
     "end_time": "2022-09-01T19:15:18.827034Z",
     "start_time": "2022-09-01T19:15:18.469161Z"
    },
    "scrolled": true
   },
   "outputs": [
    {
     "data": {
      "text/html": [
       "<div>\n",
       "<style scoped>\n",
       "    .dataframe tbody tr th:only-of-type {\n",
       "        vertical-align: middle;\n",
       "    }\n",
       "\n",
       "    .dataframe tbody tr th {\n",
       "        vertical-align: top;\n",
       "    }\n",
       "\n",
       "    .dataframe thead th {\n",
       "        text-align: right;\n",
       "    }\n",
       "</style>\n",
       "<table border=\"1\" class=\"dataframe\">\n",
       "  <thead>\n",
       "    <tr style=\"text-align: right;\">\n",
       "      <th></th>\n",
       "      <th>invoice_no</th>\n",
       "      <th>stock_code</th>\n",
       "      <th>description</th>\n",
       "      <th>quantity</th>\n",
       "      <th>invoice_date</th>\n",
       "      <th>unit_price</th>\n",
       "      <th>country</th>\n",
       "      <th>customer_id</th>\n",
       "    </tr>\n",
       "  </thead>\n",
       "  <tbody>\n",
       "    <tr>\n",
       "      <th>0</th>\n",
       "      <td>536365</td>\n",
       "      <td>85123A</td>\n",
       "      <td>WHITE HANGING HEART T-LIGHT HOLDER</td>\n",
       "      <td>6</td>\n",
       "      <td>29-Nov-16</td>\n",
       "      <td>2.55</td>\n",
       "      <td>United Kingdom</td>\n",
       "      <td>17850.0</td>\n",
       "    </tr>\n",
       "    <tr>\n",
       "      <th>1</th>\n",
       "      <td>536365</td>\n",
       "      <td>71053</td>\n",
       "      <td>WHITE METAL LANTERN</td>\n",
       "      <td>6</td>\n",
       "      <td>29-Nov-16</td>\n",
       "      <td>3.39</td>\n",
       "      <td>United Kingdom</td>\n",
       "      <td>17850.0</td>\n",
       "    </tr>\n",
       "    <tr>\n",
       "      <th>2</th>\n",
       "      <td>536365</td>\n",
       "      <td>84406B</td>\n",
       "      <td>CREAM CUPID HEARTS COAT HANGER</td>\n",
       "      <td>8</td>\n",
       "      <td>29-Nov-16</td>\n",
       "      <td>2.75</td>\n",
       "      <td>United Kingdom</td>\n",
       "      <td>17850.0</td>\n",
       "    </tr>\n",
       "    <tr>\n",
       "      <th>3</th>\n",
       "      <td>536365</td>\n",
       "      <td>84029G</td>\n",
       "      <td>KNITTED UNION FLAG HOT WATER BOTTLE</td>\n",
       "      <td>6</td>\n",
       "      <td>29-Nov-16</td>\n",
       "      <td>3.39</td>\n",
       "      <td>United Kingdom</td>\n",
       "      <td>17850.0</td>\n",
       "    </tr>\n",
       "    <tr>\n",
       "      <th>4</th>\n",
       "      <td>536365</td>\n",
       "      <td>84029E</td>\n",
       "      <td>RED WOOLLY HOTTIE WHITE HEART.</td>\n",
       "      <td>6</td>\n",
       "      <td>29-Nov-16</td>\n",
       "      <td>3.39</td>\n",
       "      <td>United Kingdom</td>\n",
       "      <td>17850.0</td>\n",
       "    </tr>\n",
       "  </tbody>\n",
       "</table>\n",
       "</div>"
      ],
      "text/plain": [
       "  invoice_no stock_code                          description  quantity  \\\n",
       "0     536365     85123A   WHITE HANGING HEART T-LIGHT HOLDER         6   \n",
       "1     536365      71053                  WHITE METAL LANTERN         6   \n",
       "2     536365     84406B       CREAM CUPID HEARTS COAT HANGER         8   \n",
       "3     536365     84029G  KNITTED UNION FLAG HOT WATER BOTTLE         6   \n",
       "4     536365     84029E       RED WOOLLY HOTTIE WHITE HEART.         6   \n",
       "\n",
       "  invoice_date  unit_price         country  customer_id  \n",
       "0    29-Nov-16        2.55  United Kingdom      17850.0  \n",
       "1    29-Nov-16        3.39  United Kingdom      17850.0  \n",
       "2    29-Nov-16        2.75  United Kingdom      17850.0  \n",
       "3    29-Nov-16        3.39  United Kingdom      17850.0  \n",
       "4    29-Nov-16        3.39  United Kingdom      17850.0  "
      ]
     },
     "execution_count": 50,
     "metadata": {},
     "output_type": "execute_result"
    }
   ],
   "source": [
    "# Create reference\n",
    "\n",
    "df_backup = pd.DataFrame(df_missing['invoice_no'].drop_duplicates())\n",
    "df_backup['customer_id'] = np.arange( 19000, 19000+len(df_backup), 1)\n",
    "\n",
    "#Merge original with refrece dataframe\n",
    "df1 = pd.merge(df1, df_backup, on='invoice_no', how='left')\n",
    "\n",
    "#coalesce\n",
    "df1['customer_id'] = df1['customer_id_x'].combine_first(df1['customer_id_y'])\n",
    "\n",
    "#Drop extra columns\n",
    "df1 = df1.drop( columns=['customer_id_x', 'customer_id_y'], axis=1)\n",
    "df1.head()"
   ]
  },
  {
   "cell_type": "code",
   "execution_count": 51,
   "id": "f25b00aa",
   "metadata": {
    "ExecuteTime": {
     "end_time": "2022-09-01T19:15:19.193271Z",
     "start_time": "2022-09-01T19:15:18.829028Z"
    }
   },
   "outputs": [
    {
     "data": {
      "text/plain": [
       "invoice_no         0\n",
       "stock_code         0\n",
       "description     1454\n",
       "quantity           0\n",
       "invoice_date       0\n",
       "unit_price         0\n",
       "country            0\n",
       "customer_id        0\n",
       "dtype: int64"
      ]
     },
     "execution_count": 51,
     "metadata": {},
     "output_type": "execute_result"
    }
   ],
   "source": [
    "df1.isna().sum()"
   ]
  },
  {
   "cell_type": "markdown",
   "id": "f8682f04",
   "metadata": {},
   "source": [
    "## 1.6 Change dtypes"
   ]
  },
  {
   "cell_type": "code",
   "execution_count": 52,
   "id": "1ef2d353",
   "metadata": {
    "ExecuteTime": {
     "end_time": "2022-09-01T19:15:19.425951Z",
     "start_time": "2022-09-01T19:15:19.197259Z"
    }
   },
   "outputs": [],
   "source": [
    "# invoicedate\n",
    "df1['invoice_date'] = pd.to_datetime( df1['invoice_date'], format='%d-%b-%y')\n",
    "\n",
    "#customerid\n",
    "df1['customer_id'] = df1['customer_id'].astype('int64')\n"
   ]
  },
  {
   "cell_type": "code",
   "execution_count": 53,
   "id": "c405ae0b",
   "metadata": {
    "ExecuteTime": {
     "end_time": "2022-09-01T19:15:19.488519Z",
     "start_time": "2022-09-01T19:15:19.427915Z"
    }
   },
   "outputs": [
    {
     "data": {
      "text/plain": [
       "invoice_no              object\n",
       "stock_code              object\n",
       "description             object\n",
       "quantity                 int64\n",
       "invoice_date    datetime64[ns]\n",
       "unit_price             float64\n",
       "country                 object\n",
       "customer_id              int64\n",
       "dtype: object"
      ]
     },
     "execution_count": 53,
     "metadata": {},
     "output_type": "execute_result"
    }
   ],
   "source": [
    "df1.dtypes"
   ]
  },
  {
   "cell_type": "markdown",
   "id": "c9ae4194",
   "metadata": {},
   "source": [
    "## 1.7 Descriptive Statistics"
   ]
  },
  {
   "cell_type": "code",
   "execution_count": 54,
   "id": "372d6f5d",
   "metadata": {
    "ExecuteTime": {
     "end_time": "2022-09-01T19:15:19.628269Z",
     "start_time": "2022-09-01T19:15:19.490482Z"
    }
   },
   "outputs": [],
   "source": [
    "num_attributes = df1.select_dtypes( include=['int64', 'float64'])\n",
    "cat_attributes = df1.select_dtypes( exclude=['int64', 'float64', 'datetime64[ns]'])"
   ]
  },
  {
   "cell_type": "markdown",
   "id": "0378f9b7",
   "metadata": {},
   "source": [
    "### 1.7.1 Numerical Attributes"
   ]
  },
  {
   "cell_type": "code",
   "execution_count": 55,
   "id": "75e48263",
   "metadata": {
    "ExecuteTime": {
     "end_time": "2022-09-01T19:15:19.897727Z",
     "start_time": "2022-09-01T19:15:19.631268Z"
    }
   },
   "outputs": [
    {
     "data": {
      "text/html": [
       "<div>\n",
       "<style scoped>\n",
       "    .dataframe tbody tr th:only-of-type {\n",
       "        vertical-align: middle;\n",
       "    }\n",
       "\n",
       "    .dataframe tbody tr th {\n",
       "        vertical-align: top;\n",
       "    }\n",
       "\n",
       "    .dataframe thead th {\n",
       "        text-align: right;\n",
       "    }\n",
       "</style>\n",
       "<table border=\"1\" class=\"dataframe\">\n",
       "  <thead>\n",
       "    <tr style=\"text-align: right;\">\n",
       "      <th></th>\n",
       "      <th>attributes</th>\n",
       "      <th>min</th>\n",
       "      <th>max</th>\n",
       "      <th>range</th>\n",
       "      <th>mean</th>\n",
       "      <th>median</th>\n",
       "      <th>std</th>\n",
       "      <th>skew</th>\n",
       "      <th>kurtosis</th>\n",
       "    </tr>\n",
       "  </thead>\n",
       "  <tbody>\n",
       "    <tr>\n",
       "      <th>0</th>\n",
       "      <td>quantity</td>\n",
       "      <td>-80995.00</td>\n",
       "      <td>80995.0</td>\n",
       "      <td>161990.00</td>\n",
       "      <td>9.552250</td>\n",
       "      <td>3.00</td>\n",
       "      <td>218.080957</td>\n",
       "      <td>-0.264076</td>\n",
       "      <td>119769.160031</td>\n",
       "    </tr>\n",
       "    <tr>\n",
       "      <th>1</th>\n",
       "      <td>unit_price</td>\n",
       "      <td>-11062.06</td>\n",
       "      <td>38970.0</td>\n",
       "      <td>50032.06</td>\n",
       "      <td>4.611114</td>\n",
       "      <td>2.08</td>\n",
       "      <td>96.759764</td>\n",
       "      <td>186.506972</td>\n",
       "      <td>59005.719097</td>\n",
       "    </tr>\n",
       "    <tr>\n",
       "      <th>2</th>\n",
       "      <td>customer_id</td>\n",
       "      <td>12346.00</td>\n",
       "      <td>22709.0</td>\n",
       "      <td>10363.00</td>\n",
       "      <td>16688.840453</td>\n",
       "      <td>16249.00</td>\n",
       "      <td>2911.408666</td>\n",
       "      <td>0.487449</td>\n",
       "      <td>-0.804287</td>\n",
       "    </tr>\n",
       "  </tbody>\n",
       "</table>\n",
       "</div>"
      ],
      "text/plain": [
       "    attributes       min      max      range          mean    median  \\\n",
       "0     quantity -80995.00  80995.0  161990.00      9.552250      3.00   \n",
       "1   unit_price -11062.06  38970.0   50032.06      4.611114      2.08   \n",
       "2  customer_id  12346.00  22709.0   10363.00  16688.840453  16249.00   \n",
       "\n",
       "           std        skew       kurtosis  \n",
       "0   218.080957   -0.264076  119769.160031  \n",
       "1    96.759764  186.506972   59005.719097  \n",
       "2  2911.408666    0.487449      -0.804287  "
      ]
     },
     "execution_count": 55,
     "metadata": {},
     "output_type": "execute_result"
    }
   ],
   "source": [
    "#central tendency - mean, median, \n",
    "ct1 = pd.DataFrame(num_attributes.apply(np.mean) ).T\n",
    "ct2 = pd.DataFrame(num_attributes.apply(np.median)).T\n",
    "\n",
    "#Dispersion - std, \n",
    "d1 = pd.DataFrame(num_attributes.apply(np.std)).T\n",
    "d2 = pd.DataFrame(num_attributes.apply(np.min)).T\n",
    "d3 = pd.DataFrame(num_attributes.apply(np.max)).T\n",
    "d4 = pd.DataFrame(num_attributes.apply(lambda x: x.max() - x.min())).T\n",
    "d5 = pd.DataFrame(num_attributes.apply(lambda x: x.skew()) ).T\n",
    "d6 = pd.DataFrame(num_attributes.apply(lambda x: x.kurtosis()) ).T\n",
    "\n",
    "#Merge\n",
    "n = pd.concat([d2, d3, d4, ct1, ct2, d1, d5, d6]).T.reset_index()\n",
    "n.columns = ['attributes', 'min', 'max', 'range','mean', 'median', 'std','skew','kurtosis']\n",
    "n"
   ]
  },
  {
   "cell_type": "markdown",
   "id": "fd112e53",
   "metadata": {},
   "source": [
    "### 1.7.2 Categorical Attributes"
   ]
  },
  {
   "cell_type": "markdown",
   "id": "93ea4ccb",
   "metadata": {},
   "source": [
    "### Invoice_no"
   ]
  },
  {
   "cell_type": "code",
   "execution_count": 56,
   "id": "7431b70a",
   "metadata": {
    "ExecuteTime": {
     "end_time": "2022-09-01T19:15:20.643032Z",
     "start_time": "2022-09-01T19:15:19.899721Z"
    },
    "code_folding": [
     0
    ]
   },
   "outputs": [
    {
     "name": "stdout",
     "output_type": "stream",
     "text": [
      "total de invoices com letras: 9291\n",
      "total de invoices com valores negativos: 9288\n"
     ]
    }
   ],
   "source": [
    "# problema: O invoice tem numeros e letras\n",
    "\n",
    "df_letter_invoices = df1.loc[df1['invoice_no'].apply( lambda x: bool( re.search( '[^0-9]+', x ) ) ), :]\n",
    "\n",
    "#Verificar se todos os invoices são negativos\n",
    "print(f'total de invoices com letras: {len(df_letter_invoices)}')\n",
    "\n",
    "#Verificar se todos os invoices são negativos\n",
    "print(f'total de invoices com valores negativos: {len(df_letter_invoices[ df_letter_invoices[\"quantity\"] < 0 ])}')\n"
   ]
  },
  {
   "cell_type": "markdown",
   "id": "691fd4b0",
   "metadata": {},
   "source": [
    "Todos os invoices constituidos por numeros e letras são negativos, então vou assumir que é um retorno."
   ]
  },
  {
   "cell_type": "markdown",
   "id": "ab46ba0f",
   "metadata": {},
   "source": [
    "## Stoke_code"
   ]
  },
  {
   "cell_type": "code",
   "execution_count": 57,
   "id": "56a4d8e0",
   "metadata": {
    "ExecuteTime": {
     "end_time": "2022-09-01T19:15:21.387075Z",
     "start_time": "2022-09-01T19:15:20.646023Z"
    }
   },
   "outputs": [
    {
     "data": {
      "text/plain": [
       "array(['POST', 'D', 'DOT', 'M', 'S', 'AMAZONFEE', 'm', 'DCGSSBOY',\n",
       "       'DCGSSGIRL', 'PADS', 'B', 'CRUK'], dtype=object)"
      ]
     },
     "execution_count": 57,
     "metadata": {},
     "output_type": "execute_result"
    }
   ],
   "source": [
    "#at_least_one_string = len(cat_attributes.loc[ cat_attributes['stock_code'].apply( lambda x: bool( re.search('[^0-9]+', x))), 'stock_code'].drop_duplicates())\n",
    "\n",
    "cat_attributes.loc[ cat_attributes['stock_code'].apply( lambda x:  bool( re.search( '^[a-zA-z]+$', x))),'stock_code'].unique()\n",
    "\n",
    "#Ação\n",
    "# Remover 'POST', 'D', 'DOT', 'M', 'S', 'AMAZONFEE', 'm', 'DCGSSBOY', 'DCGSSGIRL', 'PADS', 'B', 'CRUK'"
   ]
  },
  {
   "cell_type": "markdown",
   "id": "d8759567",
   "metadata": {},
   "source": [
    "### Country"
   ]
  },
  {
   "cell_type": "code",
   "execution_count": 58,
   "id": "5ed32a08",
   "metadata": {
    "ExecuteTime": {
     "end_time": "2022-09-01T19:15:21.448100Z",
     "start_time": "2022-09-01T19:15:21.389037Z"
    }
   },
   "outputs": [
    {
     "data": {
      "text/plain": [
       "38"
      ]
     },
     "execution_count": 58,
     "metadata": {},
     "output_type": "execute_result"
    }
   ],
   "source": [
    "len(df1['country'].unique())"
   ]
  },
  {
   "cell_type": "code",
   "execution_count": 59,
   "id": "b09358c2",
   "metadata": {
    "ExecuteTime": {
     "end_time": "2022-09-01T19:15:21.603046Z",
     "start_time": "2022-09-01T19:15:21.453090Z"
    }
   },
   "outputs": [
    {
     "data": {
      "text/plain": [
       "United Kingdom          0.914320\n",
       "Germany                 0.017521\n",
       "France                  0.015790\n",
       "EIRE                    0.015124\n",
       "Spain                   0.004674\n",
       "Netherlands             0.004375\n",
       "Belgium                 0.003818\n",
       "Switzerland             0.003694\n",
       "Portugal                0.002803\n",
       "Australia               0.002323\n",
       "Norway                  0.002004\n",
       "Italy                   0.001482\n",
       "Channel Islands         0.001399\n",
       "Finland                 0.001283\n",
       "Cyprus                  0.001148\n",
       "Sweden                  0.000853\n",
       "Unspecified             0.000823\n",
       "Austria                 0.000740\n",
       "Denmark                 0.000718\n",
       "Japan                   0.000661\n",
       "Poland                  0.000629\n",
       "Israel                  0.000548\n",
       "USA                     0.000537\n",
       "Hong Kong               0.000531\n",
       "Singapore               0.000423\n",
       "Iceland                 0.000336\n",
       "Canada                  0.000279\n",
       "Greece                  0.000269\n",
       "Malta                   0.000234\n",
       "United Arab Emirates    0.000125\n",
       "European Community      0.000113\n",
       "RSA                     0.000107\n",
       "Lebanon                 0.000083\n",
       "Lithuania               0.000065\n",
       "Brazil                  0.000059\n",
       "Czech Republic          0.000055\n",
       "Bahrain                 0.000035\n",
       "Saudi Arabia            0.000018\n",
       "Name: country, dtype: float64"
      ]
     },
     "execution_count": 59,
     "metadata": {},
     "output_type": "execute_result"
    }
   ],
   "source": [
    "#Representatividade de cada país nas compras\n",
    "\n",
    "df1['country'].value_counts(normalize=True)"
   ]
  },
  {
   "cell_type": "code",
   "execution_count": 60,
   "id": "08c54ebb",
   "metadata": {
    "ExecuteTime": {
     "end_time": "2022-09-01T19:15:21.823791Z",
     "start_time": "2022-09-01T19:15:21.605043Z"
    }
   },
   "outputs": [
    {
     "data": {
      "text/html": [
       "<div>\n",
       "<style scoped>\n",
       "    .dataframe tbody tr th:only-of-type {\n",
       "        vertical-align: middle;\n",
       "    }\n",
       "\n",
       "    .dataframe tbody tr th {\n",
       "        vertical-align: top;\n",
       "    }\n",
       "\n",
       "    .dataframe thead th {\n",
       "        text-align: right;\n",
       "    }\n",
       "</style>\n",
       "<table border=\"1\" class=\"dataframe\">\n",
       "  <thead>\n",
       "    <tr style=\"text-align: right;\">\n",
       "      <th></th>\n",
       "      <th>country</th>\n",
       "      <th>customer_id</th>\n",
       "    </tr>\n",
       "  </thead>\n",
       "  <tbody>\n",
       "    <tr>\n",
       "      <th>36</th>\n",
       "      <td>United Kingdom</td>\n",
       "      <td>7587</td>\n",
       "    </tr>\n",
       "    <tr>\n",
       "      <th>14</th>\n",
       "      <td>Germany</td>\n",
       "      <td>95</td>\n",
       "    </tr>\n",
       "    <tr>\n",
       "      <th>13</th>\n",
       "      <td>France</td>\n",
       "      <td>90</td>\n",
       "    </tr>\n",
       "    <tr>\n",
       "      <th>10</th>\n",
       "      <td>EIRE</td>\n",
       "      <td>44</td>\n",
       "    </tr>\n",
       "    <tr>\n",
       "      <th>31</th>\n",
       "      <td>Spain</td>\n",
       "      <td>31</td>\n",
       "    </tr>\n",
       "  </tbody>\n",
       "</table>\n",
       "</div>"
      ],
      "text/plain": [
       "           country  customer_id\n",
       "36  United Kingdom         7587\n",
       "14         Germany           95\n",
       "13          France           90\n",
       "10            EIRE           44\n",
       "31           Spain           31"
      ]
     },
     "execution_count": 60,
     "metadata": {},
     "output_type": "execute_result"
    }
   ],
   "source": [
    "df1[['customer_id', 'country']].drop_duplicates().groupby('country').count().reset_index().sort_values('customer_id', ascending=False).head()"
   ]
  },
  {
   "cell_type": "markdown",
   "id": "9a610791",
   "metadata": {},
   "source": [
    "#  2.0 Filtering Variable"
   ]
  },
  {
   "cell_type": "code",
   "execution_count": 61,
   "id": "03562be6",
   "metadata": {
    "ExecuteTime": {
     "end_time": "2022-09-01T19:15:21.901593Z",
     "start_time": "2022-09-01T19:15:21.825787Z"
    }
   },
   "outputs": [],
   "source": [
    "df2 =df1.copy()"
   ]
  },
  {
   "cell_type": "code",
   "execution_count": 62,
   "id": "ffbc2170",
   "metadata": {
    "ExecuteTime": {
     "end_time": "2022-09-01T19:15:22.009657Z",
     "start_time": "2022-09-01T19:15:21.903433Z"
    }
   },
   "outputs": [
    {
     "data": {
      "text/plain": [
       "invoice_no              object\n",
       "stock_code              object\n",
       "description             object\n",
       "quantity                 int64\n",
       "invoice_date    datetime64[ns]\n",
       "unit_price             float64\n",
       "country                 object\n",
       "customer_id              int64\n",
       "dtype: object"
      ]
     },
     "execution_count": 62,
     "metadata": {},
     "output_type": "execute_result"
    }
   ],
   "source": [
    "df2.dtypes"
   ]
  },
  {
   "cell_type": "code",
   "execution_count": 63,
   "id": "fc6c52ef",
   "metadata": {
    "ExecuteTime": {
     "end_time": "2022-09-01T19:15:22.435935Z",
     "start_time": "2022-09-01T19:15:22.011648Z"
    }
   },
   "outputs": [],
   "source": [
    "#=====================Numerical Attributes=================================\n",
    "#Quantity\n",
    "df2 = df2.loc[df2['unit_price']>= 0.04]\n",
    "\n",
    "\n",
    "#=====================Caterical Attributes=================================\n",
    "df2 = df2[~df2['stock_code'].isin( ['POST', 'D', 'DOT', 'M', 'S', 'AMAZONFEE', 'm', 'DCGSSBOY',\n",
    "       'DCGSSGIRL', 'PADS', 'B', 'CRUK'])]\n",
    "\n",
    "#Description\n",
    "df2 = df2.drop(columns='description', axis=1)\n",
    "\n",
    "#map\n",
    "df2 = df2[~df2['country'].isin(['European Community', 'Unspecified'])]\n",
    "\n",
    "#Quantity\n",
    "df_return = df2.loc[df1['quantity']<0, :]\n",
    "df2_purchase = df2.loc[df1['quantity']>= 0, :]\n",
    "\n",
    "#Bad Users\n",
    "df2 = df2[~df2['customer_id'].isin( [16446] )]\n",
    "\n"
   ]
  },
  {
   "cell_type": "markdown",
   "id": "ca51c954",
   "metadata": {
    "ExecuteTime": {
     "end_time": "2022-07-04T15:26:20.065585Z",
     "start_time": "2022-07-04T15:26:20.056608Z"
    }
   },
   "source": [
    "#  3.0 Feature Engeneering"
   ]
  },
  {
   "cell_type": "code",
   "execution_count": 64,
   "id": "0c432817",
   "metadata": {
    "ExecuteTime": {
     "end_time": "2022-09-01T19:15:22.467860Z",
     "start_time": "2022-09-01T19:15:22.437937Z"
    }
   },
   "outputs": [],
   "source": [
    "df3= df2.copy()"
   ]
  },
  {
   "cell_type": "markdown",
   "id": "3e06904a",
   "metadata": {},
   "source": [
    "## 3.1 Feature Creation"
   ]
  },
  {
   "cell_type": "code",
   "execution_count": 65,
   "id": "f1765ab7",
   "metadata": {
    "ExecuteTime": {
     "end_time": "2022-09-01T19:15:22.640244Z",
     "start_time": "2022-09-01T19:15:22.469850Z"
    }
   },
   "outputs": [],
   "source": [
    "# Data reference\n",
    "df_ref = df3.drop(['invoice_no', 'stock_code', 'quantity', 'invoice_date', 'unit_price', \n",
    "                   'country'], axis=1).drop_duplicates(ignore_index=True)"
   ]
  },
  {
   "cell_type": "code",
   "execution_count": 66,
   "id": "5e4846e3",
   "metadata": {
    "ExecuteTime": {
     "end_time": "2022-09-01T19:15:22.718160Z",
     "start_time": "2022-09-01T19:15:22.642004Z"
    }
   },
   "outputs": [
    {
     "data": {
      "text/plain": [
       "(5786, 1)"
      ]
     },
     "execution_count": 66,
     "metadata": {},
     "output_type": "execute_result"
    }
   ],
   "source": [
    "df_ref.shape"
   ]
  },
  {
   "cell_type": "markdown",
   "id": "7e297664",
   "metadata": {},
   "source": [
    "### 3.1.1 Gross Revenue"
   ]
  },
  {
   "cell_type": "code",
   "execution_count": 67,
   "id": "21a7e497",
   "metadata": {
    "ExecuteTime": {
     "end_time": "2022-09-01T19:15:22.873259Z",
     "start_time": "2022-09-01T19:15:22.721150Z"
    }
   },
   "outputs": [],
   "source": [
    "#Gross Revenue (Faturamento) - Quantidade * preco\n",
    "df2_purchase[ 'gross_revenue'] = df2_purchase['quantity'] * df2_purchase['unit_price']\n",
    "\n",
    "#Monetary\n",
    "df_monetary = df2_purchase[['customer_id', 'gross_revenue']].groupby('customer_id').sum().reset_index()\n",
    "\n",
    "df_ref = pd.merge(df_ref, df_monetary, on='customer_id', how='left')\n"
   ]
  },
  {
   "cell_type": "markdown",
   "id": "11b0721e",
   "metadata": {},
   "source": [
    "### 3.1.2 Recency - Day from last purchase"
   ]
  },
  {
   "cell_type": "code",
   "execution_count": 68,
   "id": "a7257ba9",
   "metadata": {
    "ExecuteTime": {
     "end_time": "2022-09-01T19:15:23.012517Z",
     "start_time": "2022-09-01T19:15:22.882241Z"
    }
   },
   "outputs": [
    {
     "data": {
      "text/plain": [
       "customer_id       0\n",
       "gross_revenue    91\n",
       "recency_days     91\n",
       "dtype: int64"
      ]
     },
     "execution_count": 68,
     "metadata": {},
     "output_type": "execute_result"
    }
   ],
   "source": [
    "# Recency - Last day purchase\n",
    "df_recency = df2_purchase.loc[:, ['customer_id', 'invoice_date']].groupby( 'customer_id' ).max().reset_index()\n",
    "df_recency['recency_days'] = ( df2['invoice_date'].max() - df_recency['invoice_date'] ).dt.days\n",
    "df_recency = df_recency[['customer_id', 'recency_days']].copy()\n",
    "df_ref = pd.merge( df_ref, df_recency, on='customer_id', how='left' )\n",
    "df_ref.isna().sum()"
   ]
  },
  {
   "cell_type": "markdown",
   "id": "cda5de19",
   "metadata": {},
   "source": [
    "### 3.1.5 Quantity of products purchased"
   ]
  },
  {
   "cell_type": "code",
   "execution_count": 69,
   "id": "e272b95b",
   "metadata": {
    "ExecuteTime": {
     "end_time": "2022-09-01T19:15:23.203319Z",
     "start_time": "2022-09-01T19:15:23.015515Z"
    }
   },
   "outputs": [
    {
     "data": {
      "text/plain": [
       "customer_id       0\n",
       "gross_revenue    91\n",
       "recency_days     91\n",
       "qtde_products    91\n",
       "dtype: int64"
      ]
     },
     "execution_count": 69,
     "metadata": {},
     "output_type": "execute_result"
    }
   ],
   "source": [
    "#Products number\n",
    "df_freq = (df2_purchase.loc[:,['customer_id', 'stock_code']].groupby('customer_id')\n",
    "                                                            .count()\n",
    "                                                            .reset_index()\n",
    "                                                            .rename(columns={'stock_code':'qtde_products'}))\n",
    "           \n",
    "df_ref =pd.merge(df_ref, df_freq, on='customer_id', how='left')\n",
    "df_ref.isna().sum()"
   ]
  },
  {
   "cell_type": "code",
   "execution_count": 70,
   "id": "66893257",
   "metadata": {
    "ExecuteTime": {
     "end_time": "2022-09-01T19:15:23.234933Z",
     "start_time": "2022-09-01T19:15:23.206314Z"
    }
   },
   "outputs": [
    {
     "data": {
      "text/html": [
       "<div>\n",
       "<style scoped>\n",
       "    .dataframe tbody tr th:only-of-type {\n",
       "        vertical-align: middle;\n",
       "    }\n",
       "\n",
       "    .dataframe tbody tr th {\n",
       "        vertical-align: top;\n",
       "    }\n",
       "\n",
       "    .dataframe thead th {\n",
       "        text-align: right;\n",
       "    }\n",
       "</style>\n",
       "<table border=\"1\" class=\"dataframe\">\n",
       "  <thead>\n",
       "    <tr style=\"text-align: right;\">\n",
       "      <th></th>\n",
       "      <th>customer_id</th>\n",
       "      <th>gross_revenue</th>\n",
       "      <th>recency_days</th>\n",
       "      <th>qtde_products</th>\n",
       "    </tr>\n",
       "  </thead>\n",
       "  <tbody>\n",
       "    <tr>\n",
       "      <th>0</th>\n",
       "      <td>17850</td>\n",
       "      <td>5391.21</td>\n",
       "      <td>372.0</td>\n",
       "      <td>297.0</td>\n",
       "    </tr>\n",
       "    <tr>\n",
       "      <th>1</th>\n",
       "      <td>13047</td>\n",
       "      <td>3232.59</td>\n",
       "      <td>56.0</td>\n",
       "      <td>171.0</td>\n",
       "    </tr>\n",
       "    <tr>\n",
       "      <th>2</th>\n",
       "      <td>12583</td>\n",
       "      <td>6705.38</td>\n",
       "      <td>2.0</td>\n",
       "      <td>232.0</td>\n",
       "    </tr>\n",
       "    <tr>\n",
       "      <th>3</th>\n",
       "      <td>13748</td>\n",
       "      <td>948.25</td>\n",
       "      <td>95.0</td>\n",
       "      <td>28.0</td>\n",
       "    </tr>\n",
       "    <tr>\n",
       "      <th>4</th>\n",
       "      <td>15100</td>\n",
       "      <td>876.00</td>\n",
       "      <td>333.0</td>\n",
       "      <td>3.0</td>\n",
       "    </tr>\n",
       "  </tbody>\n",
       "</table>\n",
       "</div>"
      ],
      "text/plain": [
       "   customer_id  gross_revenue  recency_days  qtde_products\n",
       "0        17850        5391.21         372.0          297.0\n",
       "1        13047        3232.59          56.0          171.0\n",
       "2        12583        6705.38           2.0          232.0\n",
       "3        13748         948.25          95.0           28.0\n",
       "4        15100         876.00         333.0            3.0"
      ]
     },
     "execution_count": 70,
     "metadata": {},
     "output_type": "execute_result"
    }
   ],
   "source": [
    "df_ref.head()"
   ]
  },
  {
   "cell_type": "markdown",
   "id": "81e05f64",
   "metadata": {},
   "source": [
    "### 3.1.8 Frequency Purchase"
   ]
  },
  {
   "cell_type": "code",
   "execution_count": 71,
   "id": "ed554692",
   "metadata": {
    "ExecuteTime": {
     "end_time": "2022-09-01T19:15:24.668127Z",
     "start_time": "2022-09-01T19:15:23.237922Z"
    }
   },
   "outputs": [],
   "source": [
    "#COmo Fazer todo esse processo apenas uma vez\n",
    "df_aux = (df2_purchase[['customer_id', 'invoice_no', 'invoice_date']].drop_duplicates()\n",
    "                                                           .groupby('customer_id')\n",
    "                                                           .agg(max_ =('invoice_date', 'max'),\n",
    "                                                                min_ =('invoice_date', 'min'),\n",
    "                                                                days_ =('invoice_date', lambda x:(( x.max() - x.min()).days)+1),\n",
    "                                                                buy_ =('invoice_date', 'count'))).reset_index()\n",
    "#Frequency\n",
    "df_aux['frequency'] =df_aux[['buy_', 'days_']].apply( lambda x: x['buy_']/ x['days_'] if x['days_'] != 0 else 0, axis=1)\n",
    "\n",
    "#Merge\n",
    "df_ref = pd.merge(df_ref, df_aux[['customer_id', 'frequency']], how='left', on='customer_id')"
   ]
  },
  {
   "cell_type": "code",
   "execution_count": 72,
   "id": "eca44fe0",
   "metadata": {
    "ExecuteTime": {
     "end_time": "2022-09-01T19:15:24.683092Z",
     "start_time": "2022-09-01T19:15:24.670127Z"
    }
   },
   "outputs": [
    {
     "data": {
      "text/plain": [
       "customer_id       0\n",
       "gross_revenue    91\n",
       "recency_days     91\n",
       "qtde_products    91\n",
       "frequency        91\n",
       "dtype: int64"
      ]
     },
     "execution_count": 72,
     "metadata": {},
     "output_type": "execute_result"
    }
   ],
   "source": [
    "df_ref.isna().sum()"
   ]
  },
  {
   "cell_type": "markdown",
   "id": "834bed5c",
   "metadata": {},
   "source": [
    "### 3.1.9 Number of Returns"
   ]
  },
  {
   "cell_type": "code",
   "execution_count": 73,
   "id": "4eecc947",
   "metadata": {
    "ExecuteTime": {
     "end_time": "2022-09-01T19:15:24.823171Z",
     "start_time": "2022-09-01T19:15:24.686083Z"
    }
   },
   "outputs": [
    {
     "data": {
      "text/plain": [
       "customer_id       0\n",
       "gross_revenue    91\n",
       "recency_days     91\n",
       "qtde_products    91\n",
       "frequency        91\n",
       "qtde_returns      0\n",
       "dtype: int64"
      ]
     },
     "execution_count": 73,
     "metadata": {},
     "output_type": "execute_result"
    }
   ],
   "source": [
    "df_return = df_return[['customer_id', 'quantity']].groupby('customer_id').sum().reset_index().rename(columns={'quantity':'qtde_returns'})\n",
    "df_return['qtde_returns'] = df_return['qtde_returns']* -1\n",
    "\n",
    "\n",
    "#Merge\n",
    "df_ref = pd.merge(df_ref, df_return, on='customer_id', how='left')\n",
    "df_ref.loc[df_ref['qtde_returns'].isna(), 'qtde_returns'] =0 \n",
    "df_ref.isna().sum()"
   ]
  },
  {
   "cell_type": "markdown",
   "id": "c9fbd64d",
   "metadata": {
    "ExecuteTime": {
     "end_time": "2022-07-04T15:27:46.998675Z",
     "start_time": "2022-07-04T15:27:46.986676Z"
    }
   },
   "source": [
    "#  4.0 EDA - Exploratory Data Analysis"
   ]
  },
  {
   "cell_type": "code",
   "execution_count": 74,
   "id": "56d85e6a",
   "metadata": {
    "ExecuteTime": {
     "end_time": "2022-09-01T19:15:24.931871Z",
     "start_time": "2022-09-01T19:15:24.825169Z"
    }
   },
   "outputs": [],
   "source": [
    "df4 =df_ref.dropna()"
   ]
  },
  {
   "cell_type": "code",
   "execution_count": 75,
   "id": "7ce75093",
   "metadata": {
    "ExecuteTime": {
     "end_time": "2022-09-01T19:15:25.041357Z",
     "start_time": "2022-09-01T19:15:24.933871Z"
    }
   },
   "outputs": [
    {
     "data": {
      "text/plain": [
       "customer_id      0\n",
       "gross_revenue    0\n",
       "recency_days     0\n",
       "qtde_products    0\n",
       "frequency        0\n",
       "qtde_returns     0\n",
       "dtype: int64"
      ]
     },
     "execution_count": 75,
     "metadata": {},
     "output_type": "execute_result"
    }
   ],
   "source": [
    "df4.isna().sum()"
   ]
  },
  {
   "cell_type": "markdown",
   "id": "d3dcdc62",
   "metadata": {},
   "source": [
    "## 4.3 Estudo do Espaço"
   ]
  },
  {
   "cell_type": "code",
   "execution_count": 76,
   "id": "e2d5e90d",
   "metadata": {
    "ExecuteTime": {
     "end_time": "2022-09-01T19:15:25.150542Z",
     "start_time": "2022-09-01T19:15:25.043352Z"
    }
   },
   "outputs": [],
   "source": [
    "cols_selected = ['customer_id', 'gross_revenue','recency_days', 'qtde_products', 'frequency', 'qtde_returns']\n",
    "df43 = df4[cols_selected].copy()"
   ]
  },
  {
   "cell_type": "code",
   "execution_count": 77,
   "id": "c701678f",
   "metadata": {
    "ExecuteTime": {
     "end_time": "2022-09-01T19:15:25.293622Z",
     "start_time": "2022-09-01T19:15:25.152387Z"
    }
   },
   "outputs": [],
   "source": [
    "mm = pp.MinMaxScaler()\n",
    "\n",
    "df43['gross_revenue']         =  mm.fit_transform(df43[['gross_revenue']])\n",
    "df43['recency_days']          =  mm.fit_transform(df43[['recency_days']])\n",
    "df43['qtde_products']         =  mm.fit_transform(df43[['qtde_products']])\n",
    "df43['frequency']             =  mm.fit_transform(df43[['frequency']])\n",
    "df43['qtde_returns']          =  mm.fit_transform(df43[['qtde_returns']])"
   ]
  },
  {
   "cell_type": "markdown",
   "id": "4b70c24c",
   "metadata": {},
   "source": [
    "### 4.3.4 Tree badesd embeding"
   ]
  },
  {
   "cell_type": "code",
   "execution_count": 78,
   "id": "165bcafc",
   "metadata": {
    "ExecuteTime": {
     "end_time": "2022-09-01T19:15:27.009281Z",
     "start_time": "2022-09-01T19:15:25.296609Z"
    }
   },
   "outputs": [],
   "source": [
    "#training dataset\n",
    "X= df43.drop(columns=['customer_id', 'gross_revenue'])\n",
    " \n",
    "y = df43['gross_revenue']\n",
    "\n",
    "#model definition\n",
    "rf_model = en.RandomForestRegressor(n_estimators=100, random_state=42)\n",
    "\n",
    "# Model Training\n",
    "rf_model.fit(X, y)\n",
    "#Leaf\n",
    "\n",
    "#Dataframe\n",
    "df_leaf = pd.DataFrame(rf_model.apply(X))"
   ]
  },
  {
   "cell_type": "code",
   "execution_count": 79,
   "id": "7ed69988",
   "metadata": {
    "ExecuteTime": {
     "end_time": "2022-09-01T19:16:01.447009Z",
     "start_time": "2022-09-01T19:15:27.012185Z"
    }
   },
   "outputs": [
    {
     "name": "stderr",
     "output_type": "stream",
     "text": [
      "C:\\Users\\PC\\anaconda3\\envs\\pa005\\lib\\site-packages\\sklearn\\manifold\\_spectral_embedding.py:259: UserWarning: Graph is not fully connected, spectral embedding may not work as expected.\n",
      "  warnings.warn(\n"
     ]
    }
   ],
   "source": [
    "# Reduzer dimensionality\n",
    "reducer = umap.UMAP( random_state=42 )\n",
    "embedding = reducer.fit_transform( df_leaf )\n",
    "\n",
    "# embedding\n",
    "df_tree = pd.DataFrame()\n",
    "df_tree['embedding_x'] = embedding[:, 0]\n",
    "df_tree['embedding_y'] = embedding[:, 1]"
   ]
  },
  {
   "cell_type": "markdown",
   "id": "decd1fca",
   "metadata": {},
   "source": [
    "# 7.0 Hyper Parameter Fine-Tuning"
   ]
  },
  {
   "cell_type": "code",
   "execution_count": 80,
   "id": "5cdcbd89",
   "metadata": {
    "ExecuteTime": {
     "end_time": "2022-09-01T19:16:01.462167Z",
     "start_time": "2022-09-01T19:16:01.448925Z"
    }
   },
   "outputs": [],
   "source": [
    "X=df_tree.copy()"
   ]
  },
  {
   "cell_type": "code",
   "execution_count": 81,
   "id": "eb689980",
   "metadata": {
    "ExecuteTime": {
     "end_time": "2022-09-01T19:16:01.646042Z",
     "start_time": "2022-09-01T19:16:01.474136Z"
    }
   },
   "outputs": [
    {
     "data": {
      "text/html": [
       "<div>\n",
       "<style scoped>\n",
       "    .dataframe tbody tr th:only-of-type {\n",
       "        vertical-align: middle;\n",
       "    }\n",
       "\n",
       "    .dataframe tbody tr th {\n",
       "        vertical-align: top;\n",
       "    }\n",
       "\n",
       "    .dataframe thead th {\n",
       "        text-align: right;\n",
       "    }\n",
       "</style>\n",
       "<table border=\"1\" class=\"dataframe\">\n",
       "  <thead>\n",
       "    <tr style=\"text-align: right;\">\n",
       "      <th></th>\n",
       "      <th>embedding_x</th>\n",
       "      <th>embedding_y</th>\n",
       "    </tr>\n",
       "  </thead>\n",
       "  <tbody>\n",
       "    <tr>\n",
       "      <th>0</th>\n",
       "      <td>9.374369</td>\n",
       "      <td>11.323303</td>\n",
       "    </tr>\n",
       "    <tr>\n",
       "      <th>1</th>\n",
       "      <td>14.677434</td>\n",
       "      <td>13.025318</td>\n",
       "    </tr>\n",
       "    <tr>\n",
       "      <th>2</th>\n",
       "      <td>9.889122</td>\n",
       "      <td>11.613262</td>\n",
       "    </tr>\n",
       "    <tr>\n",
       "      <th>3</th>\n",
       "      <td>-5.138314</td>\n",
       "      <td>-1.075224</td>\n",
       "    </tr>\n",
       "    <tr>\n",
       "      <th>4</th>\n",
       "      <td>18.822596</td>\n",
       "      <td>-4.035024</td>\n",
       "    </tr>\n",
       "  </tbody>\n",
       "</table>\n",
       "</div>"
      ],
      "text/plain": [
       "   embedding_x  embedding_y\n",
       "0     9.374369    11.323303\n",
       "1    14.677434    13.025318\n",
       "2     9.889122    11.613262\n",
       "3    -5.138314    -1.075224\n",
       "4    18.822596    -4.035024"
      ]
     },
     "execution_count": 81,
     "metadata": {},
     "output_type": "execute_result"
    }
   ],
   "source": [
    "X.head()"
   ]
  },
  {
   "cell_type": "markdown",
   "id": "eb80cf7b",
   "metadata": {
    "ExecuteTime": {
     "end_time": "2022-07-04T15:44:03.808138Z",
     "start_time": "2022-07-04T15:44:03.789188Z"
    }
   },
   "source": [
    "# 8.0 Model Training"
   ]
  },
  {
   "cell_type": "markdown",
   "id": "7fe00dae",
   "metadata": {},
   "source": [
    "## 8.1 Final Model"
   ]
  },
  {
   "cell_type": "code",
   "execution_count": 82,
   "id": "4df54a2c",
   "metadata": {
    "ExecuteTime": {
     "end_time": "2022-09-01T19:16:54.790420Z",
     "start_time": "2022-09-01T19:16:01.649035Z"
    }
   },
   "outputs": [],
   "source": [
    "k=8\n",
    "#Model definition\n",
    "gmm_model = mx.GaussianMixture(n_components=k, n_init=300, random_state=42)\n",
    "\n",
    "\n",
    "#Model training\n",
    "gmm_model.fit( X )\n",
    "\n",
    "#Clustering\n",
    "labels = gmm_model.predict(X)"
   ]
  },
  {
   "cell_type": "markdown",
   "id": "221de7af",
   "metadata": {},
   "source": [
    "## 8.2 Cluster Validation"
   ]
  },
  {
   "cell_type": "code",
   "execution_count": 83,
   "id": "a5fb3335",
   "metadata": {
    "ExecuteTime": {
     "end_time": "2022-09-01T19:16:55.496931Z",
     "start_time": "2022-09-01T19:16:54.793408Z"
    }
   },
   "outputs": [
    {
     "name": "stdout",
     "output_type": "stream",
     "text": [
      "SS value: 0.29702234268188477\n"
     ]
    }
   ],
   "source": [
    "# WSS ( within-cluster sum of square)\n",
    "#print(f'WSS value: {kmeans.inertia_}')\n",
    "\n",
    "# SS (Silhouette Score)\n",
    "print( 'SS value: {}'.format( m.silhouette_score( X, labels, metric='euclidean' ) ) )"
   ]
  },
  {
   "cell_type": "markdown",
   "id": "f2bcb891",
   "metadata": {
    "ExecuteTime": {
     "end_time": "2022-07-04T15:44:32.028040Z",
     "start_time": "2022-07-04T15:44:32.009061Z"
    }
   },
   "source": [
    "# 9.0 Cluster Analysis"
   ]
  },
  {
   "cell_type": "code",
   "execution_count": 93,
   "id": "6950c0fe",
   "metadata": {
    "ExecuteTime": {
     "end_time": "2022-09-01T19:41:48.890362Z",
     "start_time": "2022-09-01T19:41:48.878392Z"
    }
   },
   "outputs": [],
   "source": [
    "df92 = df4[ cols_selected ].copy()\n",
    "df92['cluster'] = labels\n",
    "\n",
    "#change dtypes\n",
    "df92['recency_days'] = df92['recency_days'].astype('int64')\n",
    "df92['qtde_products'] = df92['qtde_products'].astype('int64')\n",
    "df92['qtde_returns'] = df92['qtde_returns'].astype('int64')"
   ]
  },
  {
   "cell_type": "code",
   "execution_count": 94,
   "id": "dc8b806a",
   "metadata": {
    "ExecuteTime": {
     "end_time": "2022-09-01T19:41:50.105774Z",
     "start_time": "2022-09-01T19:41:50.035957Z"
    }
   },
   "outputs": [
    {
     "data": {
      "text/html": [
       "<div>\n",
       "<style scoped>\n",
       "    .dataframe tbody tr th:only-of-type {\n",
       "        vertical-align: middle;\n",
       "    }\n",
       "\n",
       "    .dataframe tbody tr th {\n",
       "        vertical-align: top;\n",
       "    }\n",
       "\n",
       "    .dataframe thead th {\n",
       "        text-align: right;\n",
       "    }\n",
       "</style>\n",
       "<table border=\"1\" class=\"dataframe\">\n",
       "  <thead>\n",
       "    <tr style=\"text-align: right;\">\n",
       "      <th></th>\n",
       "      <th>cluster</th>\n",
       "      <th>customer_id</th>\n",
       "      <th>perc_customer</th>\n",
       "      <th>gross_revenue</th>\n",
       "      <th>recency_days</th>\n",
       "      <th>qtde_products</th>\n",
       "      <th>frequency</th>\n",
       "      <th>qtde_returns</th>\n",
       "    </tr>\n",
       "  </thead>\n",
       "  <tbody>\n",
       "    <tr>\n",
       "      <th>0</th>\n",
       "      <td>0</td>\n",
       "      <td>1038</td>\n",
       "      <td>18.226514</td>\n",
       "      <td>5605.191840</td>\n",
       "      <td>77.370906</td>\n",
       "      <td>305.047206</td>\n",
       "      <td>0.342201</td>\n",
       "      <td>149.015414</td>\n",
       "    </tr>\n",
       "    <tr>\n",
       "      <th>3</th>\n",
       "      <td>3</td>\n",
       "      <td>311</td>\n",
       "      <td>5.460931</td>\n",
       "      <td>2012.408585</td>\n",
       "      <td>57.006431</td>\n",
       "      <td>102.379421</td>\n",
       "      <td>0.222812</td>\n",
       "      <td>6.440514</td>\n",
       "    </tr>\n",
       "    <tr>\n",
       "      <th>4</th>\n",
       "      <td>4</td>\n",
       "      <td>685</td>\n",
       "      <td>12.028095</td>\n",
       "      <td>1665.379708</td>\n",
       "      <td>75.182482</td>\n",
       "      <td>53.982482</td>\n",
       "      <td>0.153353</td>\n",
       "      <td>8.318248</td>\n",
       "    </tr>\n",
       "    <tr>\n",
       "      <th>5</th>\n",
       "      <td>5</td>\n",
       "      <td>683</td>\n",
       "      <td>11.992976</td>\n",
       "      <td>1058.016164</td>\n",
       "      <td>103.714495</td>\n",
       "      <td>49.951684</td>\n",
       "      <td>0.372151</td>\n",
       "      <td>9.117130</td>\n",
       "    </tr>\n",
       "    <tr>\n",
       "      <th>2</th>\n",
       "      <td>2</td>\n",
       "      <td>1001</td>\n",
       "      <td>17.576822</td>\n",
       "      <td>1022.538811</td>\n",
       "      <td>124.855145</td>\n",
       "      <td>66.663337</td>\n",
       "      <td>0.744456</td>\n",
       "      <td>3.300699</td>\n",
       "    </tr>\n",
       "    <tr>\n",
       "      <th>7</th>\n",
       "      <td>7</td>\n",
       "      <td>365</td>\n",
       "      <td>6.409131</td>\n",
       "      <td>567.900685</td>\n",
       "      <td>63.123288</td>\n",
       "      <td>14.358904</td>\n",
       "      <td>0.217756</td>\n",
       "      <td>0.857534</td>\n",
       "    </tr>\n",
       "    <tr>\n",
       "      <th>6</th>\n",
       "      <td>6</td>\n",
       "      <td>339</td>\n",
       "      <td>5.952590</td>\n",
       "      <td>481.663658</td>\n",
       "      <td>237.734513</td>\n",
       "      <td>43.106195</td>\n",
       "      <td>0.726372</td>\n",
       "      <td>0.510324</td>\n",
       "    </tr>\n",
       "    <tr>\n",
       "      <th>1</th>\n",
       "      <td>1</td>\n",
       "      <td>1273</td>\n",
       "      <td>22.352941</td>\n",
       "      <td>316.630738</td>\n",
       "      <td>170.395915</td>\n",
       "      <td>16.695208</td>\n",
       "      <td>0.991522</td>\n",
       "      <td>4.459544</td>\n",
       "    </tr>\n",
       "  </tbody>\n",
       "</table>\n",
       "</div>"
      ],
      "text/plain": [
       "   cluster  customer_id  perc_customer  gross_revenue  recency_days  \\\n",
       "0        0         1038      18.226514    5605.191840     77.370906   \n",
       "3        3          311       5.460931    2012.408585     57.006431   \n",
       "4        4          685      12.028095    1665.379708     75.182482   \n",
       "5        5          683      11.992976    1058.016164    103.714495   \n",
       "2        2         1001      17.576822    1022.538811    124.855145   \n",
       "7        7          365       6.409131     567.900685     63.123288   \n",
       "6        6          339       5.952590     481.663658    237.734513   \n",
       "1        1         1273      22.352941     316.630738    170.395915   \n",
       "\n",
       "   qtde_products  frequency  qtde_returns  \n",
       "0     305.047206   0.342201    149.015414  \n",
       "3     102.379421   0.222812      6.440514  \n",
       "4      53.982482   0.153353      8.318248  \n",
       "5      49.951684   0.372151      9.117130  \n",
       "2      66.663337   0.744456      3.300699  \n",
       "7      14.358904   0.217756      0.857534  \n",
       "6      43.106195   0.726372      0.510324  \n",
       "1      16.695208   0.991522      4.459544  "
      ]
     },
     "execution_count": 94,
     "metadata": {},
     "output_type": "execute_result"
    }
   ],
   "source": [
    "# cluster number\n",
    "df_cluster = df92[['customer_id', 'cluster']].groupby('cluster').count().reset_index()\n",
    "df_cluster['perc_customer'] = (df_cluster['customer_id']/ df_cluster['customer_id'].sum()*100)\n",
    "\n",
    "#Gross revenue\n",
    "\n",
    "df_avg_gross_revenue = df92[['gross_revenue', 'cluster']].groupby('cluster').mean().reset_index()\n",
    "\n",
    "df_cluster = pd.merge(df_cluster, df_avg_gross_revenue, how='inner', on='cluster')\n",
    "\n",
    "#Recency_days\n",
    "df_avg_recency_days = df92[['recency_days', 'cluster']].groupby('cluster').mean().reset_index()\n",
    "df_cluster = pd.merge(df_cluster, df_avg_recency_days, how='inner', on='cluster')\n",
    "\n",
    "#Products\n",
    "df_qtde_products = df92[['qtde_products', 'cluster']].groupby('cluster').mean().reset_index()\n",
    "df_cluster = pd.merge(df_cluster, df_qtde_products, how='inner', on='cluster')\n",
    "\n",
    "#frequency\n",
    "df_frequency = df92[['frequency', 'cluster']].groupby('cluster').mean().reset_index()\n",
    "df_cluster =pd.merge(df_cluster, df_frequency, how='inner', on='cluster')\n",
    "\n",
    "#Returns\n",
    "df_qtde_returns = df92[['qtde_returns', 'cluster']].groupby('cluster').mean().reset_index()\n",
    "df_cluster =pd.merge(df_cluster, df_qtde_returns, how='inner', on='cluster')\n",
    "\n",
    "df_cluster.sort_values('gross_revenue',ascending=False)"
   ]
  },
  {
   "cell_type": "code",
   "execution_count": 95,
   "id": "61c4720d",
   "metadata": {
    "ExecuteTime": {
     "end_time": "2022-09-01T19:41:50.985842Z",
     "start_time": "2022-09-01T19:41:50.974875Z"
    }
   },
   "outputs": [],
   "source": [
    "#Nomear os cluster\n",
    "#1 -> ouro\n",
    "#7 -> safira\n",
    "#2 -> diamante\n",
    "#3 -> jade\n",
    "#6 -> prata\n",
    "#4 -> perola\n",
    "#5-> esmeralda\n",
    "#0-> rubi\n"
   ]
  },
  {
   "cell_type": "markdown",
   "id": "d2f233b2",
   "metadata": {},
   "source": [
    "### Cluster 01:  ( Candidato ao cluster ouro )\n",
    " \n",
    "    - Número de customers: 468 (15,7% do customers )\n",
    "    \n",
    "    - Faturamento médio: $ 8836,13\n",
    "    \n",
    "    - Recência em média: 21 dias\n",
    "    \n",
    "    - Média de produtos comprados:424\n",
    "    \n",
    "    - Frequencia média: 0,09 produto/dia \n",
    "    \n",
    "### Cluster 02:\n",
    "    - Número de customers: 417 (14.04 % do customers )\n",
    "    \n",
    "    - Recência em média: 33 dias\n",
    "    \n",
    "    - Compras em média: 144 compras\n",
    "    \n",
    "    - Receita em média: $2.610,89 dólares\n",
    "    \n",
    "\n",
    "### Cluster 03:\n",
    "\n",
    "    - Número de customers: 349 (11% do customers )\n",
    "    \n",
    "    - Recência em média: 69 dias\n",
    "    \n",
    "    - Compras em média: 52 compras\n",
    "    \n",
    "    - Receita em média: $2.216,34 dólares\n",
    "    "
   ]
  },
  {
   "cell_type": "markdown",
   "id": "d72e41eb",
   "metadata": {},
   "source": [
    "# 11.0 Deploy to production"
   ]
  },
  {
   "cell_type": "code",
   "execution_count": 96,
   "id": "5101323e",
   "metadata": {
    "ExecuteTime": {
     "end_time": "2022-09-01T19:41:52.443183Z",
     "start_time": "2022-09-01T19:41:52.422206Z"
    }
   },
   "outputs": [
    {
     "data": {
      "text/plain": [
       "customer_id        int64\n",
       "gross_revenue    float64\n",
       "recency_days       int64\n",
       "qtde_products      int64\n",
       "frequency        float64\n",
       "qtde_returns       int64\n",
       "cluster            int64\n",
       "dtype: object"
      ]
     },
     "execution_count": 96,
     "metadata": {},
     "output_type": "execute_result"
    }
   ],
   "source": [
    "#Plano\n",
    "df92.dtypes\n",
    "\n",
    "#TMUX"
   ]
  },
  {
   "cell_type": "markdown",
   "id": "58be7787",
   "metadata": {},
   "source": [
    "## 11.1 Insert SQlite"
   ]
  },
  {
   "cell_type": "code",
   "execution_count": 102,
   "id": "f40c0724",
   "metadata": {
    "ExecuteTime": {
     "end_time": "2022-09-01T19:52:15.191752Z",
     "start_time": "2022-09-01T19:52:14.998867Z"
    }
   },
   "outputs": [],
   "source": [
    "import sqlite3\n",
    "from sqlalchemy import create_engine"
   ]
  },
  {
   "cell_type": "code",
   "execution_count": 98,
   "id": "fd50c0ba",
   "metadata": {
    "ExecuteTime": {
     "end_time": "2022-09-01T19:45:53.364756Z",
     "start_time": "2022-09-01T19:45:53.133523Z"
    }
   },
   "outputs": [],
   "source": [
    "#create table\n",
    "query_create_table_insiders= \"\"\"\n",
    "    CREATE TABLE insiders (\n",
    "        customer_id      INTEGER,\n",
    "        gross_revenue    REAL,\n",
    "        recency_days     INTEGER,\n",
    "        qtde_products    INTEGER,\n",
    "        frequency        REAL,\n",
    "        qtde_returns     INTEGER,\n",
    "        cluster          INTEGER\n",
    "               \n",
    ")\n",
    "\"\"\"\n",
    "\n",
    "conn = sqlite3.connect('db_insiders.sqlite')\n",
    "conn.execute(query_create_table_insiders)\n",
    "conn.commit()\n",
    "conn.close()"
   ]
  },
  {
   "cell_type": "code",
   "execution_count": 103,
   "id": "5c8fa880",
   "metadata": {
    "ExecuteTime": {
     "end_time": "2022-09-01T19:52:22.352133Z",
     "start_time": "2022-09-01T19:52:21.752921Z"
    }
   },
   "outputs": [
    {
     "data": {
      "text/plain": [
       "5695"
      ]
     },
     "execution_count": 103,
     "metadata": {},
     "output_type": "execute_result"
    }
   ],
   "source": [
    "# insert data\n",
    "conn = create_engine('sqlite:///db_insiders.sqlite')\n",
    "df92.to_sql('insiders', con=conn, if_exists='append', index=False)"
   ]
  },
  {
   "cell_type": "code",
   "execution_count": 104,
   "id": "8176750f",
   "metadata": {
    "ExecuteTime": {
     "end_time": "2022-09-01T19:54:29.233861Z",
     "start_time": "2022-09-01T19:54:29.165742Z"
    }
   },
   "outputs": [],
   "source": [
    "#consulting database\n",
    "query = \"\"\"\n",
    "    SELECT * FROM insiders\n",
    "\"\"\"\n",
    "\n",
    "df = pd.read_sql_query(query, conn)"
   ]
  },
  {
   "cell_type": "code",
   "execution_count": 105,
   "id": "81c368ee",
   "metadata": {
    "ExecuteTime": {
     "end_time": "2022-09-01T19:54:32.522817Z",
     "start_time": "2022-09-01T19:54:32.506861Z"
    }
   },
   "outputs": [
    {
     "data": {
      "text/html": [
       "<div>\n",
       "<style scoped>\n",
       "    .dataframe tbody tr th:only-of-type {\n",
       "        vertical-align: middle;\n",
       "    }\n",
       "\n",
       "    .dataframe tbody tr th {\n",
       "        vertical-align: top;\n",
       "    }\n",
       "\n",
       "    .dataframe thead th {\n",
       "        text-align: right;\n",
       "    }\n",
       "</style>\n",
       "<table border=\"1\" class=\"dataframe\">\n",
       "  <thead>\n",
       "    <tr style=\"text-align: right;\">\n",
       "      <th></th>\n",
       "      <th>customer_id</th>\n",
       "      <th>gross_revenue</th>\n",
       "      <th>recency_days</th>\n",
       "      <th>qtde_products</th>\n",
       "      <th>frequency</th>\n",
       "      <th>qtde_returns</th>\n",
       "      <th>cluster</th>\n",
       "    </tr>\n",
       "  </thead>\n",
       "  <tbody>\n",
       "    <tr>\n",
       "      <th>0</th>\n",
       "      <td>17850</td>\n",
       "      <td>5391.21</td>\n",
       "      <td>372</td>\n",
       "      <td>297</td>\n",
       "      <td>17.000000</td>\n",
       "      <td>40</td>\n",
       "      <td>0</td>\n",
       "    </tr>\n",
       "    <tr>\n",
       "      <th>1</th>\n",
       "      <td>13047</td>\n",
       "      <td>3232.59</td>\n",
       "      <td>56</td>\n",
       "      <td>171</td>\n",
       "      <td>0.028302</td>\n",
       "      <td>35</td>\n",
       "      <td>0</td>\n",
       "    </tr>\n",
       "    <tr>\n",
       "      <th>2</th>\n",
       "      <td>12583</td>\n",
       "      <td>6705.38</td>\n",
       "      <td>2</td>\n",
       "      <td>232</td>\n",
       "      <td>0.040323</td>\n",
       "      <td>50</td>\n",
       "      <td>0</td>\n",
       "    </tr>\n",
       "    <tr>\n",
       "      <th>3</th>\n",
       "      <td>13748</td>\n",
       "      <td>948.25</td>\n",
       "      <td>95</td>\n",
       "      <td>28</td>\n",
       "      <td>0.017921</td>\n",
       "      <td>0</td>\n",
       "      <td>4</td>\n",
       "    </tr>\n",
       "    <tr>\n",
       "      <th>4</th>\n",
       "      <td>15100</td>\n",
       "      <td>876.00</td>\n",
       "      <td>333</td>\n",
       "      <td>3</td>\n",
       "      <td>0.073171</td>\n",
       "      <td>22</td>\n",
       "      <td>2</td>\n",
       "    </tr>\n",
       "  </tbody>\n",
       "</table>\n",
       "</div>"
      ],
      "text/plain": [
       "   customer_id  gross_revenue  recency_days  qtde_products  frequency  \\\n",
       "0        17850        5391.21           372            297  17.000000   \n",
       "1        13047        3232.59            56            171   0.028302   \n",
       "2        12583        6705.38             2            232   0.040323   \n",
       "3        13748         948.25            95             28   0.017921   \n",
       "4        15100         876.00           333              3   0.073171   \n",
       "\n",
       "   qtde_returns  cluster  \n",
       "0            40        0  \n",
       "1            35        0  \n",
       "2            50        0  \n",
       "3             0        4  \n",
       "4            22        2  "
      ]
     },
     "execution_count": 105,
     "metadata": {},
     "output_type": "execute_result"
    }
   ],
   "source": [
    "df.head()"
   ]
  },
  {
   "cell_type": "code",
   "execution_count": 107,
   "id": "b1f0618c",
   "metadata": {
    "ExecuteTime": {
     "end_time": "2022-09-01T19:55:00.954231Z",
     "start_time": "2022-09-01T19:55:00.946217Z"
    }
   },
   "outputs": [
    {
     "data": {
      "text/plain": [
       "(5695, 7)"
      ]
     },
     "execution_count": 107,
     "metadata": {},
     "output_type": "execute_result"
    }
   ],
   "source": [
    "df.shape"
   ]
  },
  {
   "cell_type": "code",
   "execution_count": null,
   "id": "e1ff2a24",
   "metadata": {},
   "outputs": [],
   "source": []
  }
 ],
 "metadata": {
  "kernelspec": {
   "display_name": "Python (pa005)",
   "language": "python",
   "name": "pa005"
  },
  "language_info": {
   "codemirror_mode": {
    "name": "ipython",
    "version": 3
   },
   "file_extension": ".py",
   "mimetype": "text/x-python",
   "name": "python",
   "nbconvert_exporter": "python",
   "pygments_lexer": "ipython3",
   "version": "3.9.12"
  },
  "varInspector": {
   "cols": {
    "lenName": 16,
    "lenType": 16,
    "lenVar": 40
   },
   "kernels_config": {
    "python": {
     "delete_cmd_postfix": "",
     "delete_cmd_prefix": "del ",
     "library": "var_list.py",
     "varRefreshCmd": "print(var_dic_list())"
    },
    "r": {
     "delete_cmd_postfix": ") ",
     "delete_cmd_prefix": "rm(",
     "library": "var_list.r",
     "varRefreshCmd": "cat(var_dic_list()) "
    }
   },
   "types_to_exclude": [
    "module",
    "function",
    "builtin_function_or_method",
    "instance",
    "_Feature"
   ],
   "window_display": false
  }
 },
 "nbformat": 4,
 "nbformat_minor": 5
}
