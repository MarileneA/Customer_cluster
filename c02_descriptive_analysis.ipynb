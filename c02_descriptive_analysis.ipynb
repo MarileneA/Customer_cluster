{
 "cells": [
  {
   "cell_type": "markdown",
   "id": "10121159",
   "metadata": {
    "heading_collapsed": true
   },
   "source": [
    "# Planejamento da Solução"
   ]
  },
  {
   "cell_type": "markdown",
   "id": "f73758ff",
   "metadata": {
    "hidden": true
   },
   "source": [
    "**Input - Entrada** \n",
    "\n",
    "1. Problema de Negócio\n",
    "    -- Selecionar os clientes mais valiosos para integrar um programa de fidelização\n",
    "    \n",
    "\n",
    "2. Conjunto de dados\n",
    "    -- Vendas de um e-ccomerce online durante um período de 1 ano.   \n",
    "    \n"
   ]
  },
  {
   "cell_type": "markdown",
   "id": "2565f5a8",
   "metadata": {
    "hidden": true
   },
   "source": [
    "**Output - Saída**"
   ]
  },
  {
   "cell_type": "markdown",
   "id": "840a8e86",
   "metadata": {
    "hidden": true
   },
   "source": [
    "A indicação de pessoas para fazer parte do programa de fidelidade \"INSIDERS\".\n",
    "\n",
    "Relatório com as respostas para as seguintes perguntas:\n",
    "    Quem são as pessoas elegíveis para participar do programa de Insiders ?\n",
    "    \n",
    "    1. Quantos clientes farão parte do grupo?\n",
    "    \n",
    "    2. Quais as principais características desses clientes ?\n",
    "    \n",
    "    3. Qual a porcentagem de contribuição do faturamento, vinda do Insiders ?\n",
    "    \n",
    "    4. Qual a expectativa de faturamento desse grupo para os próximos meses ?\n",
    "    \n",
    "    5. Quais as condições para uma pessoa ser elegível ao Insiders ?\n",
    "    \n",
    "    6. Quais as condições para uma pessoa ser removida do Insiders ?\n",
    "    \n",
    "    7. Qual a garantia que o programa Insiders é melhor que o restante da base ?\n",
    "    \n",
    "    8. Quais ações o time de marketing pode realizar para aumentar o faturamento?"
   ]
  },
  {
   "cell_type": "markdown",
   "id": "2aaaa919",
   "metadata": {
    "hidden": true
   },
   "source": [
    " **Tasks - Processo**"
   ]
  },
  {
   "cell_type": "markdown",
   "id": "7d1bca37",
   "metadata": {
    "hidden": true
   },
   "source": [
    "1. Quem são as pessoas elegíveis para participar do programa de Insiders ?\n",
    "    --O que é ser elegível. Para a empresa o que são clientes com maior valor?\n",
    "\n",
    "        Faturamento:\n",
    "            Alto Ticket MédioAlto LTVBaixa Recência ou Alta Frequência ( tempo entre as compras )\n",
    "\n",
    "            Alto Basket Size ( quantidade média de produtos comprados )\n",
    "\n",
    "            Baixa probabilidade de Churn\n",
    "            \n",
    "            Previsão alta de LTV\n",
    "            \n",
    "            Alta propensão de compra\n",
    "\n",
    "        Custo:\n",
    "\n",
    "            Baixo número de devoluções\n",
    "\n",
    "        Experiência de compra:  \n",
    "\n",
    "            Média alta de avaliações\n",
    "            \n",
    "2. Quantos clientes farão parte de cada grupo\n",
    "     --Número total de clientes\n",
    "         %do grupo de insiders\n",
    "     \n",
    "3. Quais as principais características desses clientes?\n",
    "      -- Escrever caracteristicas desses clientes\n",
    "              idade\n",
    "              Localização\n",
    "       \n",
    "      -- Escrever caracteristicas do consumo\n",
    "              Atributos de clusterização\n",
    "              \n",
    "4. Qual a porcentagem de contribuição do faturamento, vinda do Insiders ?\n",
    "        --Faturamento total do ano\n",
    "        --Faturamento do grupo de insiders        \n",
    "        \n",
    "\n",
    "5. Qual a expectativa de faturamento desse grupo para os próximos meses ?\n",
    "        --LTV do grupo de insiders\n",
    "        --Analise de cohort\n",
    "   \n",
    "6. Quais as condições para uma pessoa ser elegível ao Insiders ?\n",
    "        -- Definir a periodicidade\n",
    "        -- Pessoas com caracteristicas parecidas com os outros insders do grupo\n",
    "\n",
    "\n",
    "7. Quais as condições para uma pessoa ser removida do Insiders ?\n",
    "         -- Definir a periodicidade\n",
    "         -- Não estar dentro das características acima\n",
    "\n",
    "8. Qual a garantia que o programa Insiders é melhor que o restante da base ?\n",
    "        -- teste A/B\n",
    "        --teste A/B baysiano\n",
    "        -- Teste de hipoteses\n",
    "        \n",
    "        \n",
    "9. Quais ações o time de marketing pode realizar para aumentar o faturamento? \n",
    "        -- Desconto\n",
    "        -- frete\n",
    "        -- Visita a empresa\n",
    "        -- brinde\n",
    "    \n",
    "        \n",
    "\n"
   ]
  },
  {
   "cell_type": "markdown",
   "id": "bda6ba29",
   "metadata": {},
   "source": [
    "# 0.0 Imports"
   ]
  },
  {
   "cell_type": "code",
   "execution_count": null,
   "id": "15a04eba",
   "metadata": {
    "ExecuteTime": {
     "end_time": "2022-08-18T18:51:32.619677Z",
     "start_time": "2022-08-18T18:51:32.618680Z"
    }
   },
   "outputs": [],
   "source": [
    "import warnings\n",
    "import pandas   as pd\n",
    "import numpy    as np\n",
    "import seaborn  as sns\n",
    "import matplotlib.pyplot as plt\n",
    "\n",
    "from sklearn import cluster as c\n",
    "from plotly import express as px\n",
    "from yellowbrick.cluster import KElbowVisualizer, SilhouetteVisualizer\n",
    "warnings.filterwarnings(\"ignore\")"
   ]
  },
  {
   "cell_type": "markdown",
   "id": "6595e01d",
   "metadata": {},
   "source": [
    "## 0.01 Loading Data"
   ]
  },
  {
   "cell_type": "code",
   "execution_count": null,
   "id": "c6b008c8",
   "metadata": {
    "ExecuteTime": {
     "end_time": "2022-08-18T18:51:32.621672Z",
     "start_time": "2022-08-18T18:51:32.621672Z"
    }
   },
   "outputs": [],
   "source": [
    "df_raw = pd.read_csv('C:/Users/PC/SejaUmDataScientist/DS_Clusterzizacao/data/ecommerce.csv', encoding='cp1252')\n",
    "df_raw.drop('Unnamed: 8', axis=1, inplace=True)"
   ]
  },
  {
   "cell_type": "code",
   "execution_count": null,
   "id": "c46da20f",
   "metadata": {
    "ExecuteTime": {
     "end_time": "2022-08-18T18:51:32.624663Z",
     "start_time": "2022-08-18T18:51:32.623666Z"
    }
   },
   "outputs": [],
   "source": [
    "df_raw.head()"
   ]
  },
  {
   "cell_type": "markdown",
   "id": "d1125355",
   "metadata": {
    "heading_collapsed": true
   },
   "source": [
    "# 1.0 Data Descriptions"
   ]
  },
  {
   "cell_type": "code",
   "execution_count": null,
   "id": "e42147cd",
   "metadata": {
    "ExecuteTime": {
     "end_time": "2022-08-18T18:51:32.626658Z",
     "start_time": "2022-08-18T18:51:32.626658Z"
    },
    "hidden": true
   },
   "outputs": [],
   "source": [
    "df1 = df_raw.copy()"
   ]
  },
  {
   "cell_type": "markdown",
   "id": "1c049651",
   "metadata": {
    "hidden": true
   },
   "source": [
    "## 1.1 Rename Columns"
   ]
  },
  {
   "cell_type": "code",
   "execution_count": null,
   "id": "19b896b3",
   "metadata": {
    "ExecuteTime": {
     "end_time": "2022-08-18T18:51:32.629651Z",
     "start_time": "2022-08-18T18:51:32.629651Z"
    },
    "hidden": true
   },
   "outputs": [],
   "source": [
    "df1.columns"
   ]
  },
  {
   "cell_type": "code",
   "execution_count": null,
   "id": "af057910",
   "metadata": {
    "ExecuteTime": {
     "end_time": "2022-08-18T18:51:32.633640Z",
     "start_time": "2022-08-18T18:51:32.633640Z"
    },
    "hidden": true
   },
   "outputs": [],
   "source": [
    "cols_new =['Invoice_No', 'Stock_Code', 'Description', 'Quantity', 'Invoice_Date',\n",
    "       'Unit_Price', 'Customer_ID', 'Country']\n",
    "\n",
    "\n",
    "cols_new = list( (map(lambda x: x.lower(), cols_new)) )\n",
    "\n",
    "\n",
    "df1.columns = cols_new"
   ]
  },
  {
   "cell_type": "markdown",
   "id": "aeeec3a1",
   "metadata": {
    "hidden": true
   },
   "source": [
    "## 1.2 Data Dimensions"
   ]
  },
  {
   "cell_type": "code",
   "execution_count": null,
   "id": "68e4da8f",
   "metadata": {
    "ExecuteTime": {
     "end_time": "2022-08-18T18:51:32.637634Z",
     "start_time": "2022-08-18T18:51:32.637634Z"
    },
    "hidden": true
   },
   "outputs": [],
   "source": [
    "print(f'Numer of rows : {df1.shape[0]}')\n",
    "print(f'Numer of columns : {df1.shape[1]}')"
   ]
  },
  {
   "cell_type": "markdown",
   "id": "43607231",
   "metadata": {
    "hidden": true
   },
   "source": [
    "## 1.3 Data Types"
   ]
  },
  {
   "cell_type": "code",
   "execution_count": null,
   "id": "74347aca",
   "metadata": {
    "ExecuteTime": {
     "end_time": "2022-08-18T18:51:32.639624Z",
     "start_time": "2022-08-18T18:51:32.639624Z"
    },
    "hidden": true
   },
   "outputs": [],
   "source": [
    "df1.dtypes"
   ]
  },
  {
   "cell_type": "markdown",
   "id": "037894b5",
   "metadata": {
    "hidden": true
   },
   "source": [
    "## 1.4 Check NA"
   ]
  },
  {
   "cell_type": "code",
   "execution_count": null,
   "id": "587f61e2",
   "metadata": {
    "ExecuteTime": {
     "end_time": "2022-08-18T18:51:32.643613Z",
     "start_time": "2022-08-18T18:51:32.643613Z"
    },
    "hidden": true
   },
   "outputs": [],
   "source": [
    "(df1.isna().sum()/df1.shape[0]) * 100"
   ]
  },
  {
   "cell_type": "code",
   "execution_count": null,
   "id": "b113416a",
   "metadata": {
    "ExecuteTime": {
     "end_time": "2022-08-18T18:51:32.649596Z",
     "start_time": "2022-08-18T18:51:32.649596Z"
    },
    "hidden": true
   },
   "outputs": [],
   "source": [
    "# correlação entre os valores NA das colunsa customerid e intem_name\n",
    "isin_number = sum(np.isin(df1.loc[df1['description'].isna()].index, df1.loc[df1['customer_id'].isna()].index))\n",
    "print(f'Os valores de NAs na coluna item_name estão correlacionados com a coluna costumer_id: {isin_number}')"
   ]
  },
  {
   "cell_type": "code",
   "execution_count": null,
   "id": "25017c0a",
   "metadata": {
    "ExecuteTime": {
     "end_time": "2022-08-18T18:51:32.652589Z",
     "start_time": "2022-08-18T18:51:32.652589Z"
    },
    "hidden": true
   },
   "outputs": [],
   "source": [
    "print(f'Os valores NA da coluna costumer_id, representa: {round((df1.isnull().sum()[\"customer_id\"] * 100) / df1.shape[0], 3)}%')"
   ]
  },
  {
   "cell_type": "markdown",
   "id": "409d36ff",
   "metadata": {
    "hidden": true
   },
   "source": [
    "- Os valores NA da coluna Customer_id representam 24.92% do dataframe. \n",
    "- É um valor significativo, porém como não seria correto preencher esses valores com a media e não há mais informações, optei por excluir esses valores NA "
   ]
  },
  {
   "cell_type": "markdown",
   "id": "5da41939",
   "metadata": {
    "hidden": true
   },
   "source": [
    "## 1.5 Replace NA"
   ]
  },
  {
   "cell_type": "code",
   "execution_count": null,
   "id": "94f4f50b",
   "metadata": {
    "ExecuteTime": {
     "end_time": "2022-08-18T18:51:32.655581Z",
     "start_time": "2022-08-18T18:51:32.655581Z"
    },
    "hidden": true
   },
   "outputs": [],
   "source": [
    "# Drop NA's\n",
    "df1 = df1.dropna(subset=['description','customer_id'])"
   ]
  },
  {
   "cell_type": "markdown",
   "id": "37c7c98f",
   "metadata": {
    "hidden": true
   },
   "source": [
    "## 1.6 Change Dtypes"
   ]
  },
  {
   "cell_type": "code",
   "execution_count": null,
   "id": "45dd10f9",
   "metadata": {
    "ExecuteTime": {
     "end_time": "2022-08-18T18:51:32.658572Z",
     "start_time": "2022-08-18T18:51:32.658572Z"
    },
    "hidden": true
   },
   "outputs": [],
   "source": [
    "# invoice date\n",
    "df1['invoice_date'] = pd.to_datetime( df1['invoice_date'], format='%d-%b-%y' )\n",
    "\n",
    "# customer id\n",
    "df1['customer_id'] = df1['customer_id'].astype( int  )\n",
    "df1.head()"
   ]
  },
  {
   "cell_type": "markdown",
   "id": "c9ae4194",
   "metadata": {
    "hidden": true
   },
   "source": [
    "## 1.7 Descriptive Statistics"
   ]
  },
  {
   "cell_type": "code",
   "execution_count": null,
   "id": "2bfc6ee7",
   "metadata": {
    "hidden": true
   },
   "outputs": [],
   "source": []
  },
  {
   "cell_type": "markdown",
   "id": "4695f9f8",
   "metadata": {
    "heading_collapsed": true
   },
   "source": [
    "# 2.0 Feature Engeneering"
   ]
  },
  {
   "cell_type": "code",
   "execution_count": null,
   "id": "e0500ca4",
   "metadata": {
    "ExecuteTime": {
     "end_time": "2022-08-18T18:51:32.662562Z",
     "start_time": "2022-08-18T18:51:32.662562Z"
    },
    "hidden": true
   },
   "outputs": [],
   "source": [
    "df2 = df1.copy()"
   ]
  },
  {
   "cell_type": "markdown",
   "id": "bfc5e95e",
   "metadata": {
    "hidden": true
   },
   "source": [
    "## 2.1 Feature Creation"
   ]
  },
  {
   "cell_type": "markdown",
   "id": "7729bb80",
   "metadata": {
    "hidden": true
   },
   "source": [
    "- Nesse primeiro ciclo criarei algumas variaveis baseadas no RFM"
   ]
  },
  {
   "cell_type": "code",
   "execution_count": null,
   "id": "52bb2e26",
   "metadata": {
    "ExecuteTime": {
     "end_time": "2022-08-18T18:51:32.665554Z",
     "start_time": "2022-08-18T18:51:32.665554Z"
    },
    "hidden": true
   },
   "outputs": [],
   "source": [
    "#Data Reference\n",
    "df_ref = df2.drop(['invoice_no','stock_code', 'description', \n",
    "                   'quantity', 'invoice_date', 'unit_price', 'country'], axis=1).drop_duplicates(ignore_index=True)\n",
    "df_ref.head()"
   ]
  },
  {
   "cell_type": "code",
   "execution_count": null,
   "id": "c61648cc",
   "metadata": {
    "ExecuteTime": {
     "end_time": "2022-08-18T18:51:32.672535Z",
     "start_time": "2022-08-18T18:51:32.672535Z"
    },
    "hidden": true
   },
   "outputs": [],
   "source": [
    "#Gross_revenue ( quantity * price)\n",
    "df2['gross_revenue'] = df2['quantity'] * df2['unit_price']\n",
    "\n",
    "#Monetary\n",
    "df_monetary = df2[['customer_id', 'gross_revenue']].groupby('customer_id').sum().reset_index()\n",
    "\n",
    "#Merge\n",
    "df_ref = pd.merge(df_ref, df_monetary, on='customer_id', how='left', )\n",
    "\n",
    "#Recency - last day purchase\n",
    "df_recency = df2[['customer_id', 'invoice_date']].groupby('customer_id').max().reset_index()\n",
    "df_recency['recency_days'] = (df2['invoice_date'].max() - df_recency['invoice_date']).dt.days\n",
    "df_recency = df_recency[['customer_id', 'recency_days']].copy()\n",
    "\n",
    "#merge\n",
    "df_ref = pd.merge(df_ref, df_recency, on='customer_id', how='left')\n",
    "\n",
    "#Frequency\n",
    "df_freq = df2[['customer_id', 'invoice_no']].drop_duplicates().groupby( 'customer_id' ).count().reset_index()\n",
    "\n",
    "#Merge\n",
    "df_ref = pd.merge( df_ref, df_freq, on='customer_id', how='left' )\n"
   ]
  },
  {
   "cell_type": "code",
   "execution_count": null,
   "id": "2231238c",
   "metadata": {
    "ExecuteTime": {
     "end_time": "2022-08-18T18:51:32.675528Z",
     "start_time": "2022-08-18T18:51:32.675528Z"
    },
    "hidden": true
   },
   "outputs": [],
   "source": [
    "df_ref.head()"
   ]
  },
  {
   "cell_type": "markdown",
   "id": "a65959d6",
   "metadata": {
    "heading_collapsed": true
   },
   "source": [
    "# 3.0 Filtering Variable"
   ]
  },
  {
   "cell_type": "code",
   "execution_count": null,
   "id": "7d18b4c5",
   "metadata": {
    "ExecuteTime": {
     "end_time": "2022-08-18T18:51:32.679517Z",
     "start_time": "2022-08-18T18:51:32.679517Z"
    },
    "hidden": true
   },
   "outputs": [],
   "source": [
    "df3 = df_ref.copy()"
   ]
  },
  {
   "cell_type": "markdown",
   "id": "e999f36c",
   "metadata": {
    "heading_collapsed": true
   },
   "source": [
    "# 4.0 Exploratory Data Analysis - EDA"
   ]
  },
  {
   "cell_type": "code",
   "execution_count": null,
   "id": "3caf3dab",
   "metadata": {
    "ExecuteTime": {
     "end_time": "2022-08-18T18:51:32.682509Z",
     "start_time": "2022-08-18T18:51:32.682509Z"
    },
    "hidden": true
   },
   "outputs": [],
   "source": [
    "df4 = df3.copy()"
   ]
  },
  {
   "cell_type": "markdown",
   "id": "92801a96",
   "metadata": {
    "heading_collapsed": true
   },
   "source": [
    "# 5.0 Data Preparation"
   ]
  },
  {
   "cell_type": "code",
   "execution_count": null,
   "id": "a905e735",
   "metadata": {
    "ExecuteTime": {
     "end_time": "2022-08-18T18:51:32.684503Z",
     "start_time": "2022-08-18T18:51:32.684503Z"
    },
    "hidden": true
   },
   "outputs": [],
   "source": [
    "df5 = df4.copy()"
   ]
  },
  {
   "cell_type": "markdown",
   "id": "4525bc17",
   "metadata": {
    "heading_collapsed": true
   },
   "source": [
    "# 6.0 Feature Selection"
   ]
  },
  {
   "cell_type": "code",
   "execution_count": null,
   "id": "19df038c",
   "metadata": {
    "ExecuteTime": {
     "end_time": "2022-08-18T18:51:32.688493Z",
     "start_time": "2022-08-18T18:51:32.688493Z"
    },
    "hidden": true
   },
   "outputs": [],
   "source": [
    "df6 = df5.copy()"
   ]
  },
  {
   "cell_type": "markdown",
   "id": "5c481228",
   "metadata": {
    "heading_collapsed": true
   },
   "source": [
    "# 7.0 Hyper Parameter Fine-Tuning"
   ]
  },
  {
   "cell_type": "code",
   "execution_count": null,
   "id": "0914043d",
   "metadata": {
    "ExecuteTime": {
     "end_time": "2022-08-18T18:51:32.690487Z",
     "start_time": "2022-08-18T18:51:32.690487Z"
    },
    "hidden": true
   },
   "outputs": [],
   "source": [
    "X = df6.drop(columns=['customer_id'])"
   ]
  },
  {
   "cell_type": "code",
   "execution_count": null,
   "id": "ba17d1ae",
   "metadata": {
    "ExecuteTime": {
     "end_time": "2022-08-18T18:51:32.694477Z",
     "start_time": "2022-08-18T18:51:32.694477Z"
    },
    "hidden": true
   },
   "outputs": [],
   "source": [
    "cluster =[2, 3, 4, 5, 6]"
   ]
  },
  {
   "cell_type": "code",
   "execution_count": null,
   "id": "52869e9e",
   "metadata": {
    "ExecuteTime": {
     "end_time": "2022-08-18T18:51:32.698469Z",
     "start_time": "2022-08-18T18:51:32.698469Z"
    },
    "cell_style": "split",
    "hidden": true
   },
   "outputs": [],
   "source": [
    "# Within-Cluster sum of Square (WSS)\n",
    "kmeans = KElbowVisualizer(c.KMeans(), k=cluster, timings=False)\n",
    "\n",
    "kmeans.fit(X)\n",
    "\n",
    "kmeans.show()"
   ]
  },
  {
   "cell_type": "code",
   "execution_count": null,
   "id": "0f3e14b3",
   "metadata": {
    "ExecuteTime": {
     "end_time": "2022-08-18T18:51:32.701458Z",
     "start_time": "2022-08-18T18:51:32.701458Z"
    },
    "cell_style": "split",
    "hidden": true
   },
   "outputs": [],
   "source": [
    "# Silhouette  Score (SS)\n",
    "kmeans = KElbowVisualizer(c.KMeans(), k=cluster, metric='silhouette', timings=False)\n",
    "\n",
    "kmeans.fit(X)\n",
    "\n",
    "kmeans.show()"
   ]
  },
  {
   "cell_type": "markdown",
   "id": "a50d7856",
   "metadata": {},
   "source": [
    "# 8.0 Model Training"
   ]
  },
  {
   "cell_type": "markdown",
   "id": "3180a44b",
   "metadata": {},
   "source": [
    "## 8.1 K-Means"
   ]
  },
  {
   "cell_type": "code",
   "execution_count": null,
   "id": "1949e5d0",
   "metadata": {
    "ExecuteTime": {
     "end_time": "2022-08-18T18:51:32.703453Z",
     "start_time": "2022-08-18T18:51:32.703453Z"
    }
   },
   "outputs": [],
   "source": [
    "# Model definition\n",
    "k = 3\n",
    "kmeans = c.KMeans( init ='random', n_clusters=k, n_init=10, max_iter=300, random_state=42 )\n",
    "# Model Training\n",
    "kmeans.fit(X)\n",
    "# Clustering\n",
    "labels = kmeans.labels_"
   ]
  },
  {
   "cell_type": "code",
   "execution_count": null,
   "id": "c58ad4df",
   "metadata": {
    "ExecuteTime": {
     "end_time": "2022-08-18T18:51:32.706444Z",
     "start_time": "2022-08-18T18:51:32.706444Z"
    }
   },
   "outputs": [],
   "source": [
    "from sklearn import metrics as m"
   ]
  },
  {
   "cell_type": "markdown",
   "id": "b2122c81",
   "metadata": {},
   "source": [
    "## 8.2 Cluster Validation"
   ]
  },
  {
   "cell_type": "code",
   "execution_count": null,
   "id": "99de37c3",
   "metadata": {
    "ExecuteTime": {
     "end_time": "2022-08-18T18:51:32.708439Z",
     "start_time": "2022-08-18T18:51:32.708439Z"
    }
   },
   "outputs": [],
   "source": [
    "## Within Sum of Square \n",
    "print(f'Wss Value: {kmeans.inertia_}')\n",
    "\n",
    "## Silhouette Score  \n",
    "print('SS Value:{}'.format(m.silhouette_score(X, labels, metric='euclidean')))"
   ]
  },
  {
   "cell_type": "markdown",
   "id": "b2a567c4",
   "metadata": {},
   "source": [
    "# 9.0 Cluster Analysis\n"
   ]
  },
  {
   "cell_type": "markdown",
   "id": "16936878",
   "metadata": {},
   "source": [
    "## 9.1 Vizualization Inspection"
   ]
  },
  {
   "cell_type": "code",
   "execution_count": null,
   "id": "82365299",
   "metadata": {
    "ExecuteTime": {
     "end_time": "2022-08-18T18:51:32.710435Z",
     "start_time": "2022-08-18T18:51:32.710435Z"
    }
   },
   "outputs": [],
   "source": [
    "df9 = df6.copy()\n",
    "df9['cluster'] = labels\n",
    "\n",
    "df9.head()"
   ]
  },
  {
   "cell_type": "code",
   "execution_count": null,
   "id": "5bd01eac",
   "metadata": {
    "ExecuteTime": {
     "end_time": "2022-08-18T18:51:32.714423Z",
     "start_time": "2022-08-18T18:51:32.714423Z"
    }
   },
   "outputs": [],
   "source": [
    "fig = px.scatter_3d(df9, x='recency_days', y='invoice_no', z='gross_revenue', color='cluster')\n",
    "fig.show()"
   ]
  },
  {
   "cell_type": "markdown",
   "id": "759e9744",
   "metadata": {},
   "source": [
    "## 9.2 Cluster Profile"
   ]
  },
  {
   "cell_type": "code",
   "execution_count": null,
   "id": "4668d425",
   "metadata": {
    "ExecuteTime": {
     "end_time": "2022-08-18T18:51:32.717416Z",
     "start_time": "2022-08-18T18:51:32.717416Z"
    }
   },
   "outputs": [],
   "source": [
    "# Number of customer\n",
    "df_cluster= df9[['customer_id', 'cluster']].groupby('cluster').count().reset_index()\n",
    "df_cluster['perc_customer'] = 100*(df_cluster['customer_id'] /df_cluster['customer_id'].sum())\n",
    "\n",
    "\n",
    "# AVG Gross Revenue\n",
    "df_avg_gross_revenue= df9[['gross_revenue', 'cluster']].groupby('cluster').mean().reset_index()\n",
    "\n",
    "df_cluster = pd.merge(df_cluster, df_avg_gross_revenue, how='inner', on='cluster')\n",
    "# AVG Recency days\n",
    "df_avg_recency_days = df9[['recency_days', 'cluster']].groupby('cluster').mean().reset_index()\n",
    "df_cluster = pd.merge(df_cluster, df_avg_recency_days, how='inner', on='cluster')\n",
    "\n",
    "\n",
    "# AVG invoice_no\n",
    "df_avg_invoice_no = df9[['invoice_no', 'cluster']].groupby('cluster').mean().reset_index()\n",
    "df_cluster = pd.merge(df_cluster, df_avg_invoice_no, how='inner', on='cluster')"
   ]
  },
  {
   "cell_type": "code",
   "execution_count": null,
   "id": "35443757",
   "metadata": {
    "ExecuteTime": {
     "end_time": "2022-08-18T18:51:32.720408Z",
     "start_time": "2022-08-18T18:51:32.720408Z"
    }
   },
   "outputs": [],
   "source": [
    "df_cluster"
   ]
  },
  {
   "cell_type": "markdown",
   "id": "094d2dbb",
   "metadata": {},
   "source": [
    " Cluster 01:  ( Candidato à Insider )\n",
    "- Número de customers: 6 (0.14% do customers )\n",
    "- Recência em média: 7 dias\n",
    "- Compras em média: 89 compras\n",
    "- Receita em média: $182.182,00 dólares\n",
    "    \n",
    "\n",
    "Cluster 02:\n",
    "- Número de customers: 31 (0.71 do customers )\n",
    "- Recência em média: 14 dias\n",
    "- Compras em média: 53 compras\n",
    "- Receita em média: $40.543,52 dólares\n",
    "    \n",
    "\n",
    "Cluster 03:\n",
    "- Número de customers: 4.335 (99% do customers )\n",
    "- Recência em média: 92 dias\n",
    "- Compras em média: 5 compras\n",
    "- Receita em média: $1.372,57 dólares"
   ]
  },
  {
   "cell_type": "markdown",
   "id": "9886f21c",
   "metadata": {},
   "source": [
    "# 10 Deploy\n"
   ]
  },
  {
   "cell_type": "code",
   "execution_count": null,
   "id": "770f3d72",
   "metadata": {
    "ExecuteTime": {
     "end_time": "2022-08-18T18:51:32.722402Z",
     "start_time": "2022-08-18T18:51:32.722402Z"
    }
   },
   "outputs": [],
   "source": [
    "#"
   ]
  }
 ],
 "metadata": {
  "kernelspec": {
   "display_name": "Python (pa005)",
   "language": "python",
   "name": "pa005"
  },
  "language_info": {
   "codemirror_mode": {
    "name": "ipython",
    "version": 3
   },
   "file_extension": ".py",
   "mimetype": "text/x-python",
   "name": "python",
   "nbconvert_exporter": "python",
   "pygments_lexer": "ipython3",
   "version": "3.9.12"
  },
  "varInspector": {
   "cols": {
    "lenName": 16,
    "lenType": 16,
    "lenVar": 40
   },
   "kernels_config": {
    "python": {
     "delete_cmd_postfix": "",
     "delete_cmd_prefix": "del ",
     "library": "var_list.py",
     "varRefreshCmd": "print(var_dic_list())"
    },
    "r": {
     "delete_cmd_postfix": ") ",
     "delete_cmd_prefix": "rm(",
     "library": "var_list.r",
     "varRefreshCmd": "cat(var_dic_list()) "
    }
   },
   "types_to_exclude": [
    "module",
    "function",
    "builtin_function_or_method",
    "instance",
    "_Feature"
   ],
   "window_display": false
  }
 },
 "nbformat": 4,
 "nbformat_minor": 5
}
